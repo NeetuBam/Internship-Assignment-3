{
 "cells": [
  {
   "cell_type": "markdown",
   "id": "058ddb97",
   "metadata": {},
   "source": [
    "# WEB SCRAPING ASSIGNMENT-3"
   ]
  },
  {
   "cell_type": "markdown",
   "id": "2c8d5567",
   "metadata": {},
   "source": [
    "Neetu Bam ; Batch no-DS0622 ; neetu.k.bam@gmail.com"
   ]
  },
  {
   "cell_type": "markdown",
   "id": "33b208d5",
   "metadata": {},
   "source": [
    "# ANSWER NO-1"
   ]
  },
  {
   "cell_type": "code",
   "execution_count": null,
   "id": "b8d787fd",
   "metadata": {},
   "outputs": [],
   "source": [
    "#import liabraries"
   ]
  },
  {
   "cell_type": "code",
   "execution_count": 2,
   "id": "624ec307",
   "metadata": {},
   "outputs": [],
   "source": [
    "from bs4 import BeautifulSoup\n",
    "import requests\n",
    "import selenium\n",
    "import pandas as pd\n",
    "from selenium import webdriver\n",
    "import warnings\n",
    "warnings.filterwarnings(\"ignore\")\n",
    "from selenium.webdriver.common.by import By\n",
    "import time\n",
    "from selenium.common.exceptions import StaleElementReferenceException, NoSuchElementException\n"
   ]
  },
  {
   "cell_type": "code",
   "execution_count": 3,
   "id": "c55fc862",
   "metadata": {},
   "outputs": [
    {
     "data": {
      "text/plain": [
       "<Response [200]>"
      ]
     },
     "execution_count": 3,
     "metadata": {},
     "output_type": "execute_result"
    }
   ],
   "source": [
    "page=requests.get(\"https://www.amazon.in/\")\n",
    "page"
   ]
  },
  {
   "cell_type": "code",
   "execution_count": 24,
   "id": "b4a8f005",
   "metadata": {},
   "outputs": [],
   "source": [
    "driver=webdriver.Chrome(r\"chromedriver.exe\")\n",
    "driver.get(\"https://www.amazon.in/\")"
   ]
  },
  {
   "cell_type": "code",
   "execution_count": 25,
   "id": "f9221a1d",
   "metadata": {},
   "outputs": [],
   "source": [
    "input_=driver.find_element(By.XPATH,\"//input[@id='twotabsearchtextbox']\")\n",
    "input_.send_keys(\"guitar\")"
   ]
  },
  {
   "cell_type": "code",
   "execution_count": 26,
   "id": "1417f470",
   "metadata": {},
   "outputs": [],
   "source": [
    "search=driver.find_element(By.XPATH,\"//input[@id='nav-search-submit-button']\")\n",
    "search.click()"
   ]
  },
  {
   "cell_type": "markdown",
   "id": "b4748ed7",
   "metadata": {},
   "source": [
    "# ANSWER NO-2"
   ]
  },
  {
   "cell_type": "markdown",
   "id": "68d6d3ff",
   "metadata": {},
   "source": [
    "Scrape all data by BRAND NAME,PRICE,RETURN/EXCHANGE,EXPECTED DELIVERY,AVAILABILITY,PRODUCT URL"
   ]
  },
  {
   "cell_type": "code",
   "execution_count": 8,
   "id": "a1546aee",
   "metadata": {},
   "outputs": [],
   "source": [
    "#SCRAPE ALL PRODUCT URLS\n",
    "product_urls=[]\n",
    "start=0\n",
    "end=3\n",
    "for page in range (start,end):\n",
    "    url=driver.find_elements(By.XPATH,\"//a[@class='a-link-normal s-no-outline']\")\n",
    "    for i in url[0:10]:\n",
    "        product_urls.append(i.get_attribute(\"href\"))\n",
    "    nxt_button=driver.find_element(By.XPATH,\"//a[@class='s-pagination-item s-pagination-next s-pagination-button s-pagination-separator']\")\n",
    "    nxt_button.click()\n",
    "    time.sleep(2)"
   ]
  },
  {
   "cell_type": "code",
   "execution_count": 9,
   "id": "7b51b883",
   "metadata": {},
   "outputs": [
    {
     "data": {
      "text/plain": [
       "30"
      ]
     },
     "execution_count": 9,
     "metadata": {},
     "output_type": "execute_result"
    }
   ],
   "source": [
    "len(product_urls)"
   ]
  },
  {
   "cell_type": "code",
   "execution_count": 20,
   "id": "13bad11a",
   "metadata": {},
   "outputs": [],
   "source": [
    "brand_name=[]\n",
    "start=0\n",
    "end=3\n",
    "for page in range(start,end):\n",
    "    brand=driver.find_elements(By.XPATH,\"//span[@class='a-size-base-plus a-color-base a-text-normal']\")\n",
    "    for i in brand[0:10]:\n",
    "        brand_name.append(i.text)\n",
    "    nxt_button=driver.find_element(By.XPATH,\"//a[@class='s-pagination-item s-pagination-next s-pagination-button s-pagination-separator']\")\n",
    "    nxt_button.click()\n",
    "    time.sleep(2)\n",
    "        \n",
    "        "
   ]
  },
  {
   "cell_type": "code",
   "execution_count": 21,
   "id": "dcc02cfb",
   "metadata": {},
   "outputs": [
    {
     "data": {
      "text/plain": [
       "30"
      ]
     },
     "execution_count": 21,
     "metadata": {},
     "output_type": "execute_result"
    }
   ],
   "source": [
    "len(brand_name)"
   ]
  },
  {
   "cell_type": "code",
   "execution_count": 27,
   "id": "3163079a",
   "metadata": {},
   "outputs": [],
   "source": [
    "price_tag=[]\n",
    "start=0\n",
    "end=3\n",
    "for page in range(start,end):\n",
    "    price=driver.find_elements(By.XPATH,\"//span[@class='a-price']\")\n",
    "    for i in price[0:10]:\n",
    "        price_tag.append(i.text)\n",
    "    nxt_button=driver.find_element(By.XPATH,\"//a[@class='s-pagination-item s-pagination-next s-pagination-button s-pagination-separator']\")\n",
    "    nxt_button.click()\n",
    "    time.sleep(2)"
   ]
  },
  {
   "cell_type": "code",
   "execution_count": 29,
   "id": "7ca3cd23",
   "metadata": {},
   "outputs": [
    {
     "data": {
      "text/plain": [
       "30"
      ]
     },
     "execution_count": 29,
     "metadata": {},
     "output_type": "execute_result"
    }
   ],
   "source": [
    "len(price_tag)"
   ]
  },
  {
   "cell_type": "code",
   "execution_count": 30,
   "id": "cb0ce0ea",
   "metadata": {},
   "outputs": [
    {
     "data": {
      "text/html": [
       "<div>\n",
       "<style scoped>\n",
       "    .dataframe tbody tr th:only-of-type {\n",
       "        vertical-align: middle;\n",
       "    }\n",
       "\n",
       "    .dataframe tbody tr th {\n",
       "        vertical-align: top;\n",
       "    }\n",
       "\n",
       "    .dataframe thead th {\n",
       "        text-align: right;\n",
       "    }\n",
       "</style>\n",
       "<table border=\"1\" class=\"dataframe\">\n",
       "  <thead>\n",
       "    <tr style=\"text-align: right;\">\n",
       "      <th></th>\n",
       "      <th>product_urls</th>\n",
       "      <th>brand_name</th>\n",
       "      <th>price_tag</th>\n",
       "    </tr>\n",
       "  </thead>\n",
       "  <tbody>\n",
       "    <tr>\n",
       "      <th>0</th>\n",
       "      <td>https://www.amazon.in/sspa/click?ie=UTF8&amp;spc=M...</td>\n",
       "      <td>Kadence Frontier guitar with Online Guitar lea...</td>\n",
       "      <td>₹4,949</td>\n",
       "    </tr>\n",
       "    <tr>\n",
       "      <th>1</th>\n",
       "      <td>https://www.amazon.in/sspa/click?ie=UTF8&amp;spc=M...</td>\n",
       "      <td>Kadence Slowhand Premium Jumbo Semi Acoustic G...</td>\n",
       "      <td>₹9,900</td>\n",
       "    </tr>\n",
       "    <tr>\n",
       "      <th>2</th>\n",
       "      <td>https://www.amazon.in/sspa/click?ie=UTF8&amp;spc=M...</td>\n",
       "      <td>Medellin M38 carbon fiber body 38 Incheses Aco...</td>\n",
       "      <td>₹2,429</td>\n",
       "    </tr>\n",
       "    <tr>\n",
       "      <th>3</th>\n",
       "      <td>https://www.amazon.in/sspa/click?ie=UTF8&amp;spc=M...</td>\n",
       "      <td>Medellin 38\" Acoustic Guitar premium wood with...</td>\n",
       "      <td>₹2,399</td>\n",
       "    </tr>\n",
       "    <tr>\n",
       "      <th>4</th>\n",
       "      <td>https://www.amazon.in/Juarez-Acoustic-Cutaway-...</td>\n",
       "      <td>Juârez Acoustic Guitar, 38 Inch Cutaway, 038C ...</td>\n",
       "      <td>₹2,090</td>\n",
       "    </tr>\n",
       "    <tr>\n",
       "      <th>5</th>\n",
       "      <td>https://www.amazon.in/Intern-INT-38C-Acoustic-...</td>\n",
       "      <td>Intern INT-38C Right hand Acoustic Guitar Kit,...</td>\n",
       "      <td>₹2,199</td>\n",
       "    </tr>\n",
       "    <tr>\n",
       "      <th>6</th>\n",
       "      <td>https://www.amazon.in/Intern-INT-38C-Acoustic-...</td>\n",
       "      <td>Intern INT-38C Acoustic Guitar Kit (Blue)</td>\n",
       "      <td>₹2,299</td>\n",
       "    </tr>\n",
       "    <tr>\n",
       "      <th>7</th>\n",
       "      <td>https://www.amazon.in/Intern-38-inch-Cutaway-D...</td>\n",
       "      <td>Intern 38C Ebony Wood Cutaway Design Acoustic ...</td>\n",
       "      <td>₹6,999</td>\n",
       "    </tr>\n",
       "    <tr>\n",
       "      <th>8</th>\n",
       "      <td>https://www.amazon.in/Intern-INT-38C-Sunburst-...</td>\n",
       "      <td>Juarez Lindenwood Acoustic Guitar, 38 Inches C...</td>\n",
       "      <td>₹1,899</td>\n",
       "    </tr>\n",
       "    <tr>\n",
       "      <th>9</th>\n",
       "      <td>https://www.amazon.in/Juarez-Acoustic-Guitar-C...</td>\n",
       "      <td>Intern Int-38c Sunburst Linden Wood Acoustic G...</td>\n",
       "      <td>₹1,899</td>\n",
       "    </tr>\n",
       "    <tr>\n",
       "      <th>10</th>\n",
       "      <td>https://www.amazon.in/sspa/click?ie=UTF8&amp;spc=M...</td>\n",
       "      <td>Medellin 38\" Acoustic Guitar premium wood with...</td>\n",
       "      <td>₹2,399</td>\n",
       "    </tr>\n",
       "    <tr>\n",
       "      <th>11</th>\n",
       "      <td>https://www.amazon.in/sspa/click?ie=UTF8&amp;spc=M...</td>\n",
       "      <td>INTERN 40 inches Acoustic Guitar with Pick-up ...</td>\n",
       "      <td>₹2,655</td>\n",
       "    </tr>\n",
       "    <tr>\n",
       "      <th>12</th>\n",
       "      <td>https://www.amazon.in/sspa/click?ie=UTF8&amp;spc=M...</td>\n",
       "      <td>Blueberry B-D38, 38\" Acoustic Guitar Kit inbui...</td>\n",
       "      <td>₹8,999</td>\n",
       "    </tr>\n",
       "    <tr>\n",
       "      <th>13</th>\n",
       "      <td>https://www.amazon.in/sspa/click?ie=UTF8&amp;spc=M...</td>\n",
       "      <td>GUITAR BRO - COMBO (Black Acoustic Guitar for ...</td>\n",
       "      <td>₹999</td>\n",
       "    </tr>\n",
       "    <tr>\n",
       "      <th>14</th>\n",
       "      <td>https://www.amazon.in/Miniature-Stylish-Steel-...</td>\n",
       "      <td>Yamaha FS100C Acoustic Guitar, Black</td>\n",
       "      <td>₹9,499</td>\n",
       "    </tr>\n",
       "    <tr>\n",
       "      <th>15</th>\n",
       "      <td>https://www.amazon.in/Ultimate-Concert-Cutaway...</td>\n",
       "      <td>Fender Squier Dreadnought Acoustic Guitar Soli...</td>\n",
       "      <td>₹10,999</td>\n",
       "    </tr>\n",
       "    <tr>\n",
       "      <th>16</th>\n",
       "      <td>https://www.amazon.in/Kadence-6-strings-Acoust...</td>\n",
       "      <td>Fender 0930307021 SA-105CE Dreadnought Cutaway...</td>\n",
       "      <td>₹2,429</td>\n",
       "    </tr>\n",
       "    <tr>\n",
       "      <th>17</th>\n",
       "      <td>https://www.amazon.in/Cort-AD810-Dreadnought-A...</td>\n",
       "      <td>Juârez JRZ38C/ASH 6 Strings Acoustic Guitar 38...</td>\n",
       "      <td>₹2,248</td>\n",
       "    </tr>\n",
       "    <tr>\n",
       "      <th>18</th>\n",
       "      <td>https://www.amazon.in/Fender-String-Cutaway-Ac...</td>\n",
       "      <td>Premium Quality 4 String Acoustic Décor Guitar...</td>\n",
       "      <td>₹2,695</td>\n",
       "    </tr>\n",
       "    <tr>\n",
       "      <th>19</th>\n",
       "      <td>https://www.amazon.in/Carlton-Rosewood-Fretboa...</td>\n",
       "      <td>Henrix 38C 38 Inch Left Handed Cutaway Acousti...</td>\n",
       "      <td>₹3,339</td>\n",
       "    </tr>\n",
       "    <tr>\n",
       "      <th>20</th>\n",
       "      <td>https://www.amazon.in/sspa/click?ie=UTF8&amp;spc=M...</td>\n",
       "      <td>Givson Ketostics Venus Special VS-BLK, Acousti...</td>\n",
       "      <td>₹4,990</td>\n",
       "    </tr>\n",
       "    <tr>\n",
       "      <th>21</th>\n",
       "      <td>https://www.amazon.in/sspa/click?ie=UTF8&amp;spc=M...</td>\n",
       "      <td>Blueberry B40L, 40\" Acoustic Guitar Kit Inbuil...</td>\n",
       "      <td>₹4,795</td>\n",
       "    </tr>\n",
       "    <tr>\n",
       "      <th>22</th>\n",
       "      <td>https://www.amazon.in/sspa/click?ie=UTF8&amp;spc=M...</td>\n",
       "      <td>Festra R-40- Trussrod Acoustic Guitar Kit with...</td>\n",
       "      <td>₹8,999</td>\n",
       "    </tr>\n",
       "    <tr>\n",
       "      <th>23</th>\n",
       "      <td>https://www.amazon.in/sspa/click?ie=UTF8&amp;spc=M...</td>\n",
       "      <td>GUITAR BRO - COMBO (Blue Acoustic Guitar for B...</td>\n",
       "      <td>₹2,795</td>\n",
       "    </tr>\n",
       "    <tr>\n",
       "      <th>24</th>\n",
       "      <td>https://www.amazon.in/Epiphone-DR-100-Acoustic...</td>\n",
       "      <td>Walden, Acoustic Guitar, Orchestra, with Bag -...</td>\n",
       "      <td>₹9,450</td>\n",
       "    </tr>\n",
       "    <tr>\n",
       "      <th>25</th>\n",
       "      <td>https://www.amazon.in/Yamaha-PACIFICA012-Elect...</td>\n",
       "      <td>Yamaha PACIFICA012 Electric Guitar - Black</td>\n",
       "      <td>₹27,985</td>\n",
       "    </tr>\n",
       "    <tr>\n",
       "      <th>26</th>\n",
       "      <td>https://www.amazon.in/Acoustic-Cutaway-RDS-Str...</td>\n",
       "      <td>Kadence acoustica 40\" Acoustic Guitar AGE01B S...</td>\n",
       "      <td>₹16,799</td>\n",
       "    </tr>\n",
       "    <tr>\n",
       "      <th>27</th>\n",
       "      <td>https://www.amazon.in/JYOTAKSH-Givson-Venus-St...</td>\n",
       "      <td>Epiphone DR-100 6 Strings Right handed Acousti...</td>\n",
       "      <td>₹28,779</td>\n",
       "    </tr>\n",
       "    <tr>\n",
       "      <th>28</th>\n",
       "      <td>https://www.amazon.in/Giuson-Venus-Black-Acous...</td>\n",
       "      <td>Yamaha PACIFICA012 Electric Guitar, Dark Blue ...</td>\n",
       "      <td>₹75,980</td>\n",
       "    </tr>\n",
       "    <tr>\n",
       "      <th>29</th>\n",
       "      <td>https://www.amazon.in/Kadence-Astro-Electric-G...</td>\n",
       "      <td>JYOTAKSH STORE Givson Venus VS-BLK, Right Hand...</td>\n",
       "      <td>₹10,250</td>\n",
       "    </tr>\n",
       "  </tbody>\n",
       "</table>\n",
       "</div>"
      ],
      "text/plain": [
       "                                         product_urls  \\\n",
       "0   https://www.amazon.in/sspa/click?ie=UTF8&spc=M...   \n",
       "1   https://www.amazon.in/sspa/click?ie=UTF8&spc=M...   \n",
       "2   https://www.amazon.in/sspa/click?ie=UTF8&spc=M...   \n",
       "3   https://www.amazon.in/sspa/click?ie=UTF8&spc=M...   \n",
       "4   https://www.amazon.in/Juarez-Acoustic-Cutaway-...   \n",
       "5   https://www.amazon.in/Intern-INT-38C-Acoustic-...   \n",
       "6   https://www.amazon.in/Intern-INT-38C-Acoustic-...   \n",
       "7   https://www.amazon.in/Intern-38-inch-Cutaway-D...   \n",
       "8   https://www.amazon.in/Intern-INT-38C-Sunburst-...   \n",
       "9   https://www.amazon.in/Juarez-Acoustic-Guitar-C...   \n",
       "10  https://www.amazon.in/sspa/click?ie=UTF8&spc=M...   \n",
       "11  https://www.amazon.in/sspa/click?ie=UTF8&spc=M...   \n",
       "12  https://www.amazon.in/sspa/click?ie=UTF8&spc=M...   \n",
       "13  https://www.amazon.in/sspa/click?ie=UTF8&spc=M...   \n",
       "14  https://www.amazon.in/Miniature-Stylish-Steel-...   \n",
       "15  https://www.amazon.in/Ultimate-Concert-Cutaway...   \n",
       "16  https://www.amazon.in/Kadence-6-strings-Acoust...   \n",
       "17  https://www.amazon.in/Cort-AD810-Dreadnought-A...   \n",
       "18  https://www.amazon.in/Fender-String-Cutaway-Ac...   \n",
       "19  https://www.amazon.in/Carlton-Rosewood-Fretboa...   \n",
       "20  https://www.amazon.in/sspa/click?ie=UTF8&spc=M...   \n",
       "21  https://www.amazon.in/sspa/click?ie=UTF8&spc=M...   \n",
       "22  https://www.amazon.in/sspa/click?ie=UTF8&spc=M...   \n",
       "23  https://www.amazon.in/sspa/click?ie=UTF8&spc=M...   \n",
       "24  https://www.amazon.in/Epiphone-DR-100-Acoustic...   \n",
       "25  https://www.amazon.in/Yamaha-PACIFICA012-Elect...   \n",
       "26  https://www.amazon.in/Acoustic-Cutaway-RDS-Str...   \n",
       "27  https://www.amazon.in/JYOTAKSH-Givson-Venus-St...   \n",
       "28  https://www.amazon.in/Giuson-Venus-Black-Acous...   \n",
       "29  https://www.amazon.in/Kadence-Astro-Electric-G...   \n",
       "\n",
       "                                           brand_name price_tag  \n",
       "0   Kadence Frontier guitar with Online Guitar lea...    ₹4,949  \n",
       "1   Kadence Slowhand Premium Jumbo Semi Acoustic G...    ₹9,900  \n",
       "2   Medellin M38 carbon fiber body 38 Incheses Aco...    ₹2,429  \n",
       "3   Medellin 38\" Acoustic Guitar premium wood with...    ₹2,399  \n",
       "4   Juârez Acoustic Guitar, 38 Inch Cutaway, 038C ...    ₹2,090  \n",
       "5   Intern INT-38C Right hand Acoustic Guitar Kit,...    ₹2,199  \n",
       "6           Intern INT-38C Acoustic Guitar Kit (Blue)    ₹2,299  \n",
       "7   Intern 38C Ebony Wood Cutaway Design Acoustic ...    ₹6,999  \n",
       "8   Juarez Lindenwood Acoustic Guitar, 38 Inches C...    ₹1,899  \n",
       "9   Intern Int-38c Sunburst Linden Wood Acoustic G...    ₹1,899  \n",
       "10  Medellin 38\" Acoustic Guitar premium wood with...    ₹2,399  \n",
       "11  INTERN 40 inches Acoustic Guitar with Pick-up ...    ₹2,655  \n",
       "12  Blueberry B-D38, 38\" Acoustic Guitar Kit inbui...    ₹8,999  \n",
       "13  GUITAR BRO - COMBO (Black Acoustic Guitar for ...      ₹999  \n",
       "14               Yamaha FS100C Acoustic Guitar, Black    ₹9,499  \n",
       "15  Fender Squier Dreadnought Acoustic Guitar Soli...   ₹10,999  \n",
       "16  Fender 0930307021 SA-105CE Dreadnought Cutaway...    ₹2,429  \n",
       "17  Juârez JRZ38C/ASH 6 Strings Acoustic Guitar 38...    ₹2,248  \n",
       "18  Premium Quality 4 String Acoustic Décor Guitar...    ₹2,695  \n",
       "19  Henrix 38C 38 Inch Left Handed Cutaway Acousti...    ₹3,339  \n",
       "20  Givson Ketostics Venus Special VS-BLK, Acousti...    ₹4,990  \n",
       "21  Blueberry B40L, 40\" Acoustic Guitar Kit Inbuil...    ₹4,795  \n",
       "22  Festra R-40- Trussrod Acoustic Guitar Kit with...    ₹8,999  \n",
       "23  GUITAR BRO - COMBO (Blue Acoustic Guitar for B...    ₹2,795  \n",
       "24  Walden, Acoustic Guitar, Orchestra, with Bag -...    ₹9,450  \n",
       "25         Yamaha PACIFICA012 Electric Guitar - Black   ₹27,985  \n",
       "26  Kadence acoustica 40\" Acoustic Guitar AGE01B S...   ₹16,799  \n",
       "27  Epiphone DR-100 6 Strings Right handed Acousti...   ₹28,779  \n",
       "28  Yamaha PACIFICA012 Electric Guitar, Dark Blue ...   ₹75,980  \n",
       "29  JYOTAKSH STORE Givson Venus VS-BLK, Right Hand...   ₹10,250  "
      ]
     },
     "execution_count": 30,
     "metadata": {},
     "output_type": "execute_result"
    }
   ],
   "source": [
    "df=pd.DataFrame({\"product_urls\":product_urls,\"brand_name\":brand_name,\"price_tag\":price_tag})\n",
    "df\n",
    "                 "
   ]
  },
  {
   "cell_type": "markdown",
   "id": "a7a46f26",
   "metadata": {},
   "source": [
    "# ANSWER NO-3"
   ]
  },
  {
   "cell_type": "code",
   "execution_count": 31,
   "id": "2fa1bc00",
   "metadata": {},
   "outputs": [],
   "source": [
    "nceException, NoSuchElementException\n",
    "from bs4 import BeautifulSoup\n",
    "import requests\n",
    "import selenium\n",
    "import pandas as pd\n",
    "from selenium import webdriver\n",
    "import warnings\n",
    "warnings.filterwarnings(\"ignore\")\n",
    "from selenium.webdriver.common.by import By\n",
    "import time\n",
    "from selenium.common.exceptions import StaleElementRefere"
   ]
  },
  {
   "cell_type": "code",
   "execution_count": 38,
   "id": "e5726be5",
   "metadata": {},
   "outputs": [],
   "source": [
    "#connect to the webdriver\n",
    "driver=webdriver.Chrome(r\"chromedriver.exe\")\n",
    "driver.get(\"https://images.google.com/\")"
   ]
  },
  {
   "cell_type": "code",
   "execution_count": 39,
   "id": "8eb4e6a7",
   "metadata": {},
   "outputs": [],
   "source": [
    "input_=driver.find_element(By.XPATH,\"//input[@class='gLFyf']\")\n",
    "input_.send_keys(\"Cakes\")"
   ]
  },
  {
   "cell_type": "code",
   "execution_count": 40,
   "id": "3e34e7fa",
   "metadata": {},
   "outputs": [],
   "source": [
    "search=driver.find_element(By.XPATH,\"//div[@class='zgAlFc']\")\n",
    "search.click()"
   ]
  },
  {
   "cell_type": "code",
   "execution_count": 41,
   "id": "e2370f7b",
   "metadata": {},
   "outputs": [
    {
     "data": {
      "text/plain": [
       "<Response [200]>"
      ]
     },
     "execution_count": 41,
     "metadata": {},
     "output_type": "execute_result"
    }
   ],
   "source": [
    "page=requests.get(\"https://images.google.com/\")\n",
    "page"
   ]
  },
  {
   "cell_type": "code",
   "execution_count": 42,
   "id": "16945daf",
   "metadata": {},
   "outputs": [
    {
     "data": {
      "text/plain": [
       "<!DOCTYPE html>\n",
       "<html itemscope=\"\" itemtype=\"http://schema.org/WebPage\" lang=\"en-IN\"><head><meta content=\"Google Images. The most comprehensive image search on the web.\" name=\"description\"/><meta content=\"text/html; charset=utf-8\" http-equiv=\"Content-Type\"/><meta content=\"/images/branding/googleg/1x/googleg_standard_color_128dp.png\" itemprop=\"image\"/><title>Google Images</title><script nonce=\"bDwc3g_3Jfan8OBBtV-anQ\">(function(){window.google={kEI:'gDegY4-qHarK1sQPz7CjqA0',kEXPI:'0,1359409,6059,206,4804,2316,383,246,5,1129120,1197724,677,380090,16114,28684,22431,1361,12315,17584,4998,13228,3847,6885,3737,22741,2372,2709,1593,1279,2742,149,1103,840,2196,4101,4120,2023,2299,14668,3227,2845,7,29075,4695,1851,15756,3,346,230,1014,1,5445,148,11323,2652,4,1528,2304,7039,20309,1714,5708,7356,13659,4437,16786,5827,2530,4094,4052,3,3541,2,11941,30212,2,14022,2715,3533,19491,5679,1021,2377,28745,4568,6255,23421,1252,5835,14967,4333,8,7476,445,2,2,1,6960,19672,8155,7381,2,1478,14489,873,7830,11804,7,1922,5784,3995,12415,8224,751,389,9543,4832,15759,10744,20137,14,82,3890,751,8692,5452,742,679,1622,782,997,3851,1125,3787,4452,751,700,3918,1283,753,988,814,1514,578,1772,1497,2,566,988,2094,171,97,83,90,399,96,426,1034,42,291,2259,410,1649,470,940,20,3,261,606,2260,290,135,55,1249,246,951,1012,918,289,947,556,4,6,291,306,724,1214,1420,16,63,3,539,598,551,157,327,244,191,166,6,261,764,184,25,369,87,4,996,1052,200,5,342,103,357,717,129,110,462,218,84,160,78,22,93,10,78,368,174,113,532,752,468,129,340,500,62,1403,115,1112,1570,1123,77,103,35,462,12,105,1254,118,532,388,502,131,490,429,458,1035,83,136,2145,711,1106,171,41,2,355,20,177,1775,417,655,108,1641,5276382,294,6,8798844,3311,141,795,19736,1,298,48,3570,9,8,9,6,2,15,3,4,19,5,23946835,4042142,1964,16673,3405,5595,11,3835,1922,5275,1479676',kBL:'Dl4b'};google.sn='imghp';google.kHL='en-IN';})();(function(){\n",
       "var f=this||self;var h,k=[];function l(a){for(var b;a&&(!a.getAttribute||!(b=a.getAttribute(\"eid\")));)a=a.parentNode;return b||h}function m(a){for(var b=null;a&&(!a.getAttribute||!(b=a.getAttribute(\"leid\")));)a=a.parentNode;return b}\n",
       "function n(a,b,c,d,g){var e=\"\";c||-1!==b.search(\"&ei=\")||(e=\"&ei=\"+l(d),-1===b.search(\"&lei=\")&&(d=m(d))&&(e+=\"&lei=\"+d));d=\"\";!c&&f._cshid&&-1===b.search(\"&cshid=\")&&\"slh\"!==a&&(d=\"&cshid=\"+f._cshid);c=c||\"/\"+(g||\"gen_204\")+\"?atyp=i&ct=\"+a+\"&cad=\"+b+e+\"&zx=\"+Date.now()+d;/^http:/i.test(c)&&\"https:\"===window.location.protocol&&(google.ml&&google.ml(Error(\"a\"),!1,{src:c,glmm:1}),c=\"\");return c};h=google.kEI;google.getEI=l;google.getLEI=m;google.ml=function(){return null};google.log=function(a,b,c,d,g){if(c=n(a,b,c,d,g)){a=new Image;var e=k.length;k[e]=a;a.onerror=a.onload=a.onabort=function(){delete k[e]};a.src=c}};google.logUrl=n;}).call(this);(function(){google.y={};google.sy=[];google.x=function(a,b){if(a)var c=a.id;else{do c=Math.random();while(google.y[c])}google.y[c]=[a,b];return!1};google.sx=function(a){google.sy.push(a)};google.lm=[];google.plm=function(a){google.lm.push.apply(google.lm,a)};google.lq=[];google.load=function(a,b,c){google.lq.push([[a],b,c])};google.loadAll=function(a,b){google.lq.push([a,b])};google.bx=!1;google.lx=function(){};}).call(this);google.f={};(function(){\n",
       "document.documentElement.addEventListener(\"submit\",function(b){var a;if(a=b.target){var c=a.getAttribute(\"data-submitfalse\");a=\"1\"===c||\"q\"===c&&!a.elements.q.value?!0:!1}else a=!1;a&&(b.preventDefault(),b.stopPropagation())},!0);document.documentElement.addEventListener(\"click\",function(b){var a;a:{for(a=b.target;a&&a!==document.documentElement;a=a.parentElement)if(\"A\"===a.tagName){a=\"1\"===a.getAttribute(\"data-nohref\");break a}a=!1}a&&b.preventDefault()},!0);}).call(this);</script><style>#gbar,#guser{font-size:13px;padding-top:1px !important;}#gbar{height:22px}#guser{padding-bottom:7px !important;text-align:right}.gbh,.gbd{border-top:1px solid #c9d7f1;font-size:1px}.gbh{height:0;position:absolute;top:24px;width:100%}@media all{.gb1{height:22px;margin-right:.5em;vertical-align:top}#gbar{float:left}}a.gb1,a.gb4{text-decoration:underline !important}a.gb1,a.gb4{color:#00c !important}.gbi .gb4{color:#dd8e27 !important}.gbf .gb4{color:#900 !important}\n",
       "</style><style>body,td,a,p,.h{font-family:arial,sans-serif}body{margin:0;overflow-y:scroll}#gog{padding:3px 8px 0}td{line-height:.8em}.gac_m td{line-height:17px}form{margin-bottom:20px}.h{color:#1558d6}em{font-weight:bold;font-style:normal}.lst{height:25px;width:496px}.gsfi,.lst{font:18px arial,sans-serif}.gsfs{font:17px arial,sans-serif}.ds{display:inline-box;display:inline-block;margin:3px 0 4px;margin-left:4px}input{font-family:inherit}body{background:#fff;color:#000}a{color:#4b11a8;text-decoration:none}a:hover,a:active{text-decoration:underline}.fl a{color:#1558d6}a:visited{color:#4b11a8}.sblc{padding-top:5px}.sblc a{display:block;margin:2px 0;margin-left:13px;font-size:11px}.lsbb{background:#f8f9fa;border:solid 1px;border-color:#dadce0 #70757a #70757a #dadce0;height:30px}.lsbb{display:block}#WqQANb a{display:inline-block;margin:0 12px}.lsb{background:url(/images/nav_logo229.png) 0 -261px repeat-x;border:none;color:#000;cursor:pointer;height:30px;margin:0;outline:0;font:15px arial,sans-serif;vertical-align:top}.lsb:active{background:#dadce0}.lst:focus{outline:none}.prms{color:#c5221f;font-size:13px}.sshppd{font-size:13px;margin:32px 0 26px}.sshpplo span{color:#c5221f}.sshpplt{margin:15px 0 30px}</style><script nonce=\"bDwc3g_3Jfan8OBBtV-anQ\">(function(){window.google.erd={jsr:1,bv:1702,de:true};\n",
       "var h=this||self;var k,l=null!=(k=h.mei)?k:1,n,p=null!=(n=h.sdo)?n:!0,q=0,r,t=google.erd,v=t.jsr;google.ml=function(a,b,d,m,e){e=void 0===e?2:e;b&&(r=a&&a.message);if(google.dl)return google.dl(a,e,d),null;if(0>v){window.console&&console.error(a,d);if(-2===v)throw a;b=!1}else b=!a||!a.message||\"Error loading script\"===a.message||q>=l&&!m?!1:!0;if(!b)return null;q++;d=d||{};b=encodeURIComponent;var c=\"/gen_204?atyp=i&ei=\"+b(google.kEI);google.kEXPI&&(c+=\"&jexpid=\"+b(google.kEXPI));c+=\"&srcpg=\"+b(google.sn)+\"&jsr=\"+b(t.jsr)+\"&bver=\"+b(t.bv);var f=a.lineNumber;void 0!==f&&(c+=\"&line=\"+f);var g=\n",
       "a.fileName;g&&(0<g.indexOf(\"-extension:/\")&&(e=3),c+=\"&script=\"+b(g),f&&g===window.location.href&&(f=document.documentElement.outerHTML.split(\"\\n\")[f],c+=\"&cad=\"+b(f?f.substring(0,300):\"No script found.\")));c+=\"&jsel=\"+e;for(var u in d)c+=\"&\",c+=b(u),c+=\"=\",c+=b(d[u]);c=c+\"&emsg=\"+b(a.name+\": \"+a.message);c=c+\"&jsst=\"+b(a.stack||\"N/A\");12288<=c.length&&(c=c.substr(0,12288));a=c;m||google.log(0,\"\",a);return a};window.onerror=function(a,b,d,m,e){r!==a&&(a=e instanceof Error?e:Error(a),void 0===d||\"lineNumber\"in a||(a.lineNumber=d),void 0===b||\"fileName\"in a||(a.fileName=b),google.ml(a,!1,void 0,!1,\"SyntaxError\"===a.name||\"SyntaxError\"===a.message.substring(0,11)||-1!==a.message.indexOf(\"Script error\")?3:0));r=null;p&&q>=l&&(window.onerror=null)};})();</script></head><body bgcolor=\"#fff\"><script nonce=\"bDwc3g_3Jfan8OBBtV-anQ\">(function(){var src='/images/nav_logo229.png';var iesg=false;document.body.onload = function(){window.n && window.n();if (document.images){new Image().src=src;}\n",
       "if (!iesg){document.f&&document.f.q.focus();document.gbqf&&document.gbqf.q.focus();}\n",
       "}\n",
       "})();</script><div id=\"mngb\"><div id=\"gbar\"><nobr><a class=\"gb1\" href=\"https://www.google.co.in/webhp?tab=iw\">Search</a> <b class=\"gb1\">Images</b> <a class=\"gb1\" href=\"https://maps.google.co.in/maps?hl=en&amp;tab=il\">Maps</a> <a class=\"gb1\" href=\"https://play.google.com/?hl=en&amp;tab=i8\">Play</a> <a class=\"gb1\" href=\"https://www.youtube.com/?tab=i1\">YouTube</a> <a class=\"gb1\" href=\"https://news.google.com/?tab=in\">News</a> <a class=\"gb1\" href=\"https://mail.google.com/mail/?tab=im\">Gmail</a> <a class=\"gb1\" href=\"https://drive.google.com/?tab=io\">Drive</a> <a class=\"gb1\" href=\"https://www.google.co.in/intl/en/about/products?tab=ih\" style=\"text-decoration:none\"><u>More</u> »</a></nobr></div><div id=\"guser\" width=\"100%\"><nobr><span class=\"gbi\" id=\"gbn\"></span><span class=\"gbf\" id=\"gbf\"></span><span id=\"gbe\"></span><a class=\"gb4\" href=\"http://www.google.co.in/history/optout?hl=en\">Web History</a> | <a class=\"gb4\" href=\"/preferences?hl=en\">Settings</a> | <a class=\"gb4\" href=\"https://accounts.google.com/ServiceLogin?hl=en&amp;passive=true&amp;continue=https://images.google.com/&amp;ec=GAZAAg\" id=\"gb_70\" target=\"_top\">Sign in</a></nobr></div><div class=\"gbh\" style=\"left:0\"></div><div class=\"gbh\" style=\"right:0\"></div></div><center><br clear=\"all\" id=\"lgpd\"/><div id=\"lga\"><div style=\"padding:28px 0 3px\"><div align=\"left\" id=\"hplogo\" style=\"height:110px;width:276px;background:url(/intl/en_ALL/images/branding/googlelogo/1x/googlelogo_white_background_color_272x92dp.png) no-repeat\" title=\"Google Images\"><div nowrap=\"\" style=\"font-size:16px;font-weight:bold;position:relative;top:70px;color:#1a73e8;right:115px;float:right\"><span>images</span></div></div></div><br/></div><form action=\"https://www.google.com/search\" name=\"f\"><table cellpadding=\"0\" cellspacing=\"0\"><tr valign=\"top\"><td width=\"25%\"> </td><td align=\"center\" nowrap=\"\"><input name=\"tbm\" type=\"hidden\" value=\"isch\"/><input name=\"ie\" type=\"hidden\" value=\"ISO-8859-1\"/><input name=\"hl\" type=\"hidden\" value=\"en-IN\"/><input name=\"source\" type=\"hidden\" value=\"hp\"/><input name=\"biw\" type=\"hidden\"/><input name=\"bih\" type=\"hidden\"/><div class=\"ds\" style=\"height:32px;margin:4px 0\"><input autocomplete=\"off\" class=\"lst\" maxlength=\"2048\" name=\"q\" size=\"57\" style=\"margin:0;padding:5px 8px 0 6px;vertical-align:top;color:#000\" title=\"Search Images\" value=\"\"/></div> <span class=\"ds\"><span class=\"lsbb\"><input class=\"lsb\" name=\"btnG\" type=\"submit\" value=\"Search Images\"/></span></span></td><td align=\"left\" class=\"fl sblc\" nowrap=\"\" valign=\"middle\" width=\"25%\"><a href=\"/advanced_image_search?hl=en-IN&amp;authuser=0\">Advanced Image Search</a></td></tr></table><input id=\"gbv\" name=\"gbv\" type=\"hidden\" value=\"1\"/><script nonce=\"bDwc3g_3Jfan8OBBtV-anQ\">(function(){var a,b=\"1\";if(document&&document.getElementById)if(\"undefined\"!=typeof XMLHttpRequest)b=\"2\";else if(\"undefined\"!=typeof ActiveXObject){var c,d,e=[\"MSXML2.XMLHTTP.6.0\",\"MSXML2.XMLHTTP.3.0\",\"MSXML2.XMLHTTP\",\"Microsoft.XMLHTTP\"];for(c=0;d=e[c++];)try{new ActiveXObject(d),b=\"2\"}catch(h){}}a=b;if(\"2\"==a&&-1==location.search.indexOf(\"&gbv=2\")){var f=google.gbvu,g=document.getElementById(\"gbv\");g&&(g.value=a);f&&window.setTimeout(function(){location.href=f},0)};}).call(this);</script></form><div id=\"gac_scont\"></div><div style=\"font-size:83%;min-height:3.5em\"><br/></div><span id=\"footer\"><div style=\"font-size:10pt\"><div id=\"WqQANb\" style=\"margin:19px auto;text-align:center\"><a href=\"/intl/en/ads/\">Advertising Programs</a><a href=\"http://www.google.co.in/services/\">Business Solutions</a><a href=\"/intl/en/about.html\">About Google</a></div></div><p style=\"font-size:8pt;color:#70757a\">© 2022 - <a href=\"/intl/en/policies/privacy/\">Privacy</a> - <a href=\"/intl/en/policies/terms/\">Terms</a></p></span></center><script nonce=\"bDwc3g_3Jfan8OBBtV-anQ\">(function(){window.google.cdo={height:757,width:1440};(function(){var a=window.innerWidth,b=window.innerHeight;if(!a||!b){var c=window.document,d=\"CSS1Compat\"==c.compatMode?c.documentElement:c.body;a=d.clientWidth;b=d.clientHeight}a&&b&&(a!=google.cdo.width||b!=google.cdo.height)&&google.log(\"\",\"\",\"/client_204?&atyp=i&biw=\"+a+\"&bih=\"+b+\"&ei=\"+google.kEI);}).call(this);})();</script> <script nonce=\"bDwc3g_3Jfan8OBBtV-anQ\">(function(){google.xjs={ck:'xjs.hp.p8DkCBvnKaU.L.X.O',cs:'ACT90oEuqRwZ040I9nEMS4IYPnzYYjWa8A',excm:[]};})();</script> <script nonce=\"bDwc3g_3Jfan8OBBtV-anQ\">(function(){var u='/xjs/_/js/k\\x3dxjs.hp.en.7AA-NzBVWyE.O/am\\x3dAADoBABQAGAB/d\\x3d1/ed\\x3d1/rs\\x3dACT90oFVO7j3BrFQavFg7OxlpNPTe6mLsA/m\\x3dsb_he,d';var amd=0;\n",
       "var d=this||self,e=function(a){return a};var g;var l=function(a,b){this.g=b===h?a:\"\"};l.prototype.toString=function(){return this.g+\"\"};var h={};\n",
       "function m(){var a=u;google.lx=function(){p(a);google.lx=function(){}};google.bx||google.lx()}\n",
       "function p(a){google.timers&&google.timers.load&&google.tick&&google.tick(\"load\",\"xjsls\");var b=document;var c=\"SCRIPT\";\"application/xhtml+xml\"===b.contentType&&(c=c.toLowerCase());c=b.createElement(c);if(void 0===g){b=null;var k=d.trustedTypes;if(k&&k.createPolicy){try{b=k.createPolicy(\"goog#html\",{createHTML:e,createScript:e,createScriptURL:e})}catch(q){d.console&&d.console.error(q.message)}g=b}else g=b}a=(b=g)?b.createScriptURL(a):a;a=new l(a,h);c.src=a instanceof l&&a.constructor===l?a.g:\"type_error:TrustedResourceUrl\";var f,n;(f=(a=null==(n=(f=(c.ownerDocument&&c.ownerDocument.defaultView||window).document).querySelector)?void 0:n.call(f,\"script[nonce]\"))?a.nonce||a.getAttribute(\"nonce\")||\"\":\"\")&&c.setAttribute(\"nonce\",f);document.body.appendChild(c);google.psa=!0};google.xjsu=u;setTimeout(function(){0<amd?google.caft(function(){return m()},amd):m()},0);})();function _DumpException(e){throw e;}\n",
       "function _F_installCss(c){}\n",
       "(function(){google.jl={blt:'none',chnk:0,dw:false,dwu:true,emtn:0,end:0,ico:false,ikb:0,ine:false,injs:'none',injt:0,injth:0,injv2:false,lls:'default',pdt:0,rep:0,snet:true,strt:0,ubm:false,uwp:true};})();(function(){var pmc='{\\x22d\\x22:{},\\x22sb_he\\x22:{\\x22agen\\x22:true,\\x22cgen\\x22:true,\\x22client\\x22:\\x22img\\x22,\\x22dh\\x22:true,\\x22ds\\x22:\\x22i\\x22,\\x22host\\x22:\\x22google.com\\x22,\\x22jsonp\\x22:true,\\x22msgs\\x22:{\\x22cibl\\x22:\\x22Clear Search\\x22,\\x22dym\\x22:\\x22Did you mean:\\x22,\\x22lcky\\x22:\\x22I\\\\u0026#39;m Feeling Lucky\\x22,\\x22lml\\x22:\\x22Learn more\\x22,\\x22psrc\\x22:\\x22This search was removed from your \\\\u003Ca href\\x3d\\\\\\x22/history\\\\\\x22\\\\u003EWeb History\\\\u003C/a\\\\u003E\\x22,\\x22psrl\\x22:\\x22Remove\\x22,\\x22sbit\\x22:\\x22Search by image\\x22,\\x22srch\\x22:\\x22Google Search\\x22},\\x22ovr\\x22:{},\\x22pq\\x22:\\x22\\x22,\\x22sbas\\x22:\\x220 3px 8px 0 rgba(0,0,0,0.2),0 0 0 1px rgba(0,0,0,0.08)\\x22,\\x22stok\\x22:\\x22dsTjBo-oPZDBETW0ta_OyqfYna8\\x22}}';google.pmc=JSON.parse(pmc);})();</script> </body></html>"
      ]
     },
     "execution_count": 42,
     "metadata": {},
     "output_type": "execute_result"
    }
   ],
   "source": [
    "soup=BeautifulSoup(page.content)\n",
    "soup"
   ]
  },
  {
   "cell_type": "code",
   "execution_count": 46,
   "id": "dc98956a",
   "metadata": {},
   "outputs": [],
   "source": [
    "for _ in range(20):\n",
    "    driver.execute_script(\"window.scrollBy(0,1000)\")\n",
    "    \n",
    "images=driver.find_elements(By.XPATH,\"//img[@class='rg_i Q4LuWd']\")\n",
    "img_urls=[]\n",
    "img_data=[]\n",
    "for image in images:\n",
    "    source=image.get_attribute('src')\n",
    "    if source is not None:\n",
    "        if (source[0:4]=='http'):\n",
    "            img_urls.append(source)"
   ]
  },
  {
   "cell_type": "code",
   "execution_count": 47,
   "id": "21f1c247",
   "metadata": {},
   "outputs": [
    {
     "name": "stdout",
     "output_type": "stream",
     "text": [
      "Downloading 0 of 10 images\n",
      "Downloading 1 of 10 images\n",
      "Downloading 2 of 10 images\n",
      "Downloading 3 of 10 images\n",
      "Downloading 4 of 10 images\n",
      "Downloading 5 of 10 images\n",
      "Downloading 6 of 10 images\n",
      "Downloading 7 of 10 images\n",
      "Downloading 8 of 10 images\n",
      "Downloading 9 of 10 images\n",
      "Downloading 10 of 10 images\n"
     ]
    },
    {
     "ename": "NameError",
     "evalue": "name 'breakBy' is not defined",
     "output_type": "error",
     "traceback": [
      "\u001b[1;31m---------------------------------------------------------------------------\u001b[0m",
      "\u001b[1;31mNameError\u001b[0m                                 Traceback (most recent call last)",
      "Input \u001b[1;32mIn [47]\u001b[0m, in \u001b[0;36m<cell line: 1>\u001b[1;34m()\u001b[0m\n\u001b[0;32m      1\u001b[0m \u001b[38;5;28;01mfor\u001b[39;00m i \u001b[38;5;129;01min\u001b[39;00m \u001b[38;5;28mrange\u001b[39m(\u001b[38;5;28mlen\u001b[39m(img_urls)):\n\u001b[0;32m      2\u001b[0m     \u001b[38;5;28;01mif\u001b[39;00m i \u001b[38;5;241m>\u001b[39m \u001b[38;5;241m10\u001b[39m:\n\u001b[1;32m----> 3\u001b[0m         \u001b[43mbreakBy\u001b[49m\u001b[38;5;241m.\u001b[39mXPATH,\n\u001b[0;32m      4\u001b[0m     \u001b[38;5;28mprint\u001b[39m(\u001b[38;5;124m\"\u001b[39m\u001b[38;5;124mDownloading \u001b[39m\u001b[38;5;132;01m{0}\u001b[39;00m\u001b[38;5;124m of \u001b[39m\u001b[38;5;132;01m{1}\u001b[39;00m\u001b[38;5;124m images\u001b[39m\u001b[38;5;124m\"\u001b[39m \u001b[38;5;241m.\u001b[39mformat(i, \u001b[38;5;241m10\u001b[39m))\n\u001b[0;32m      5\u001b[0m     response\u001b[38;5;241m=\u001b[39mrequests\u001b[38;5;241m.\u001b[39mget(img_urls[i])\n",
      "\u001b[1;31mNameError\u001b[0m: name 'breakBy' is not defined"
     ]
    }
   ],
   "source": [
    "for i in range(len(img_urls)):\n",
    "    if i > 10:\n",
    "        breakBy.XPATH,\n",
    "    print(\"Downloading {0} of {1} images\" .format(i, 10))\n",
    "    response=requests.get(img_urls[i])\n",
    "    file=open(r\"C:\\Users\\neetu\\Downloads\\chromedriver_win32\"+ str(i)+\".jpg\", \"wb\")\n",
    "    file.write(response.content)"
   ]
  },
  {
   "cell_type": "markdown",
   "id": "b72dc146",
   "metadata": {},
   "source": [
    "# ANSWER NO-4"
   ]
  },
  {
   "cell_type": "code",
   "execution_count": 116,
   "id": "fc2699c3",
   "metadata": {},
   "outputs": [],
   "source": [
    "from bs4 import BeautifulSoup\n",
    "import requests\n",
    "import selenium\n",
    "import pandas as pd\n",
    "from selenium import webdriver\n",
    "import warnings\n",
    "warnings.filterwarnings(\"ignore\")\n",
    "from selenium.webdriver.common.by import By\n",
    "import time\n",
    "from selenium.common.exceptions import StaleElementReferenceException, NoSuchElementException\n"
   ]
  },
  {
   "cell_type": "code",
   "execution_count": 117,
   "id": "03f00b88",
   "metadata": {},
   "outputs": [],
   "source": [
    "driver=webdriver.Chrome(r\"chromedriver.exe\")"
   ]
  },
  {
   "cell_type": "code",
   "execution_count": 118,
   "id": "ce5c791c",
   "metadata": {},
   "outputs": [],
   "source": [
    "driver.get(\"https://www.flipkart.com/\")"
   ]
  },
  {
   "cell_type": "code",
   "execution_count": 119,
   "id": "5902491e",
   "metadata": {},
   "outputs": [],
   "source": [
    "input_=driver.find_element(By.XPATH,\"//input[@class='_3704LK']\")\n",
    "input_.send_keys(\"Oneplus Nord,pixel 4A\")"
   ]
  },
  {
   "cell_type": "code",
   "execution_count": 120,
   "id": "435c8de2",
   "metadata": {},
   "outputs": [],
   "source": [
    "search=driver.find_element(By.XPATH,\"//button[@class='L0Z3Pu']\")\n",
    "search.click()"
   ]
  },
  {
   "cell_type": "code",
   "execution_count": 121,
   "id": "886f46e2",
   "metadata": {},
   "outputs": [],
   "source": [
    "Product=[]\n",
    "Ram=[]\n",
    "Price=[]\n",
    "Product_urls=[]"
   ]
  },
  {
   "cell_type": "code",
   "execution_count": 122,
   "id": "c11b1184",
   "metadata": {},
   "outputs": [],
   "source": [
    "try:\n",
    "    product=driver.find_elements(By.XPATH,\"//div[@class='_4rR01T']\")\n",
    "    for i in product[0:10]:\n",
    "        Product.append(i.text)\n",
    "except NoSuchElementException:\n",
    "    Product.append(\"-\")"
   ]
  },
  {
   "cell_type": "code",
   "execution_count": 123,
   "id": "3917b602",
   "metadata": {},
   "outputs": [
    {
     "data": {
      "text/plain": [
       "10"
      ]
     },
     "execution_count": 123,
     "metadata": {},
     "output_type": "execute_result"
    }
   ],
   "source": [
    "len(Product)"
   ]
  },
  {
   "cell_type": "code",
   "execution_count": 124,
   "id": "2eadc010",
   "metadata": {},
   "outputs": [],
   "source": [
    "try:\n",
    "    ram=driver.find_elements(By.XPATH,\"//li[@class='rgWa7D']\")\n",
    "    for i in ram[0:10]:\n",
    "        Ram.append(i.text)\n",
    "except NoSuchElementException:\n",
    "    Ram.append(\"-\")"
   ]
  },
  {
   "cell_type": "code",
   "execution_count": 125,
   "id": "6a8522b3",
   "metadata": {},
   "outputs": [
    {
     "data": {
      "text/plain": [
       "10"
      ]
     },
     "execution_count": 125,
     "metadata": {},
     "output_type": "execute_result"
    }
   ],
   "source": [
    "len(Ram)"
   ]
  },
  {
   "cell_type": "code",
   "execution_count": 126,
   "id": "c8d0d205",
   "metadata": {},
   "outputs": [],
   "source": [
    "try:\n",
    "    price=driver.find_elements(By.XPATH,\"//div[@class='_30jeq3 _1_WHN1']\")\n",
    "    for i in price[0:10]:\n",
    "        Price.append(i.text)\n",
    "except NoSuchElementException:\n",
    "    Price.append(\"-\")"
   ]
  },
  {
   "cell_type": "code",
   "execution_count": 127,
   "id": "35e1c85a",
   "metadata": {},
   "outputs": [
    {
     "data": {
      "text/plain": [
       "10"
      ]
     },
     "execution_count": 127,
     "metadata": {},
     "output_type": "execute_result"
    }
   ],
   "source": [
    "len(Price)"
   ]
  },
  {
   "cell_type": "code",
   "execution_count": 128,
   "id": "7b5fe77d",
   "metadata": {},
   "outputs": [],
   "source": [
    "    url=driver.find_elements(By.XPATH,\"//a[@class='_1fQZEK']\")\n",
    "    for i in url[0:10]:\n",
    "        Product_urls.append(i.get_attribute(\"href\"))"
   ]
  },
  {
   "cell_type": "code",
   "execution_count": 129,
   "id": "a39602b3",
   "metadata": {},
   "outputs": [
    {
     "data": {
      "text/plain": [
       "10"
      ]
     },
     "execution_count": 129,
     "metadata": {},
     "output_type": "execute_result"
    }
   ],
   "source": [
    "len(Product_urls)"
   ]
  },
  {
   "cell_type": "code",
   "execution_count": 130,
   "id": "0e101953",
   "metadata": {},
   "outputs": [
    {
     "data": {
      "text/html": [
       "<div>\n",
       "<style scoped>\n",
       "    .dataframe tbody tr th:only-of-type {\n",
       "        vertical-align: middle;\n",
       "    }\n",
       "\n",
       "    .dataframe tbody tr th {\n",
       "        vertical-align: top;\n",
       "    }\n",
       "\n",
       "    .dataframe thead th {\n",
       "        text-align: right;\n",
       "    }\n",
       "</style>\n",
       "<table border=\"1\" class=\"dataframe\">\n",
       "  <thead>\n",
       "    <tr style=\"text-align: right;\">\n",
       "      <th></th>\n",
       "      <th>Product</th>\n",
       "      <th>Ram</th>\n",
       "      <th>Price</th>\n",
       "      <th>Product_urls</th>\n",
       "    </tr>\n",
       "  </thead>\n",
       "  <tbody>\n",
       "    <tr>\n",
       "      <th>0</th>\n",
       "      <td>OnePlus Nord CE 2 Lite 5G (Blue Tide, 128 GB)</td>\n",
       "      <td>6 GB RAM | 128 GB ROM</td>\n",
       "      <td>₹19,960</td>\n",
       "      <td>https://www.flipkart.com/oneplus-nord-ce-2-lit...</td>\n",
       "    </tr>\n",
       "    <tr>\n",
       "      <th>1</th>\n",
       "      <td>APPLE iPhone 14 Plus (Starlight, 128 GB)</td>\n",
       "      <td>16.74 cm (6.59 inch) Display</td>\n",
       "      <td>₹87,490</td>\n",
       "      <td>https://www.flipkart.com/apple-iphone-14-plus-...</td>\n",
       "    </tr>\n",
       "    <tr>\n",
       "      <th>2</th>\n",
       "      <td>APPLE iPhone 14 Plus (Midnight, 128 GB)</td>\n",
       "      <td>64MP Rear Camera</td>\n",
       "      <td>₹87,490</td>\n",
       "      <td>https://www.flipkart.com/apple-iphone-14-plus-...</td>\n",
       "    </tr>\n",
       "    <tr>\n",
       "      <th>3</th>\n",
       "      <td>APPLE iPhone 14 Plus ((PRODUCT)RED, 128 GB)</td>\n",
       "      <td>5000 mAh Battery</td>\n",
       "      <td>₹87,490</td>\n",
       "      <td>https://www.flipkart.com/apple-iphone-14-plus-...</td>\n",
       "    </tr>\n",
       "    <tr>\n",
       "      <th>4</th>\n",
       "      <td>APPLE iPhone 14 Plus (Purple, 256 GB)</td>\n",
       "      <td>1 year manufacturer warranty for device and 6 ...</td>\n",
       "      <td>₹97,490</td>\n",
       "      <td>https://www.flipkart.com/apple-iphone-14-plus-...</td>\n",
       "    </tr>\n",
       "    <tr>\n",
       "      <th>5</th>\n",
       "      <td>OnePlus 9 Pro 5G (Morning Mist, 128 GB)</td>\n",
       "      <td>128 GB ROM</td>\n",
       "      <td>₹48,699</td>\n",
       "      <td>https://www.flipkart.com/oneplus-9-pro-5g-morn...</td>\n",
       "    </tr>\n",
       "    <tr>\n",
       "      <th>6</th>\n",
       "      <td>APPLE iPhone 14 Plus (Midnight, 256 GB)</td>\n",
       "      <td>17.02 cm (6.7 inch) Super Retina XDR Display</td>\n",
       "      <td>₹97,490</td>\n",
       "      <td>https://www.flipkart.com/apple-iphone-14-plus-...</td>\n",
       "    </tr>\n",
       "    <tr>\n",
       "      <th>7</th>\n",
       "      <td>OnePlus 9 Pro 5G (Pine Green, 256 GB)</td>\n",
       "      <td>12MP + 12MP | 12MP Front Camera</td>\n",
       "      <td>₹53,998</td>\n",
       "      <td>https://www.flipkart.com/oneplus-9-pro-5g-pine...</td>\n",
       "    </tr>\n",
       "    <tr>\n",
       "      <th>8</th>\n",
       "      <td>Nokia C20 Plus Smartphone (Dark Grey, 32 GB)</td>\n",
       "      <td>A15 Bionic Chip, 6 Core Processor Processor</td>\n",
       "      <td>₹9,999</td>\n",
       "      <td>https://www.flipkart.com/nokia-c20-plus-smartp...</td>\n",
       "    </tr>\n",
       "    <tr>\n",
       "      <th>9</th>\n",
       "      <td>APPLE iPhone 14 Plus (Purple, 128 GB)</td>\n",
       "      <td>1 Year Warranty for Phone and 6 Months Warrant...</td>\n",
       "      <td>₹87,490</td>\n",
       "      <td>https://www.flipkart.com/apple-iphone-14-plus-...</td>\n",
       "    </tr>\n",
       "  </tbody>\n",
       "</table>\n",
       "</div>"
      ],
      "text/plain": [
       "                                         Product  \\\n",
       "0  OnePlus Nord CE 2 Lite 5G (Blue Tide, 128 GB)   \n",
       "1       APPLE iPhone 14 Plus (Starlight, 128 GB)   \n",
       "2        APPLE iPhone 14 Plus (Midnight, 128 GB)   \n",
       "3    APPLE iPhone 14 Plus ((PRODUCT)RED, 128 GB)   \n",
       "4          APPLE iPhone 14 Plus (Purple, 256 GB)   \n",
       "5        OnePlus 9 Pro 5G (Morning Mist, 128 GB)   \n",
       "6        APPLE iPhone 14 Plus (Midnight, 256 GB)   \n",
       "7          OnePlus 9 Pro 5G (Pine Green, 256 GB)   \n",
       "8   Nokia C20 Plus Smartphone (Dark Grey, 32 GB)   \n",
       "9          APPLE iPhone 14 Plus (Purple, 128 GB)   \n",
       "\n",
       "                                                 Ram    Price  \\\n",
       "0                              6 GB RAM | 128 GB ROM  ₹19,960   \n",
       "1                       16.74 cm (6.59 inch) Display  ₹87,490   \n",
       "2                                   64MP Rear Camera  ₹87,490   \n",
       "3                                   5000 mAh Battery  ₹87,490   \n",
       "4  1 year manufacturer warranty for device and 6 ...  ₹97,490   \n",
       "5                                         128 GB ROM  ₹48,699   \n",
       "6       17.02 cm (6.7 inch) Super Retina XDR Display  ₹97,490   \n",
       "7                    12MP + 12MP | 12MP Front Camera  ₹53,998   \n",
       "8        A15 Bionic Chip, 6 Core Processor Processor   ₹9,999   \n",
       "9  1 Year Warranty for Phone and 6 Months Warrant...  ₹87,490   \n",
       "\n",
       "                                        Product_urls  \n",
       "0  https://www.flipkart.com/oneplus-nord-ce-2-lit...  \n",
       "1  https://www.flipkart.com/apple-iphone-14-plus-...  \n",
       "2  https://www.flipkart.com/apple-iphone-14-plus-...  \n",
       "3  https://www.flipkart.com/apple-iphone-14-plus-...  \n",
       "4  https://www.flipkart.com/apple-iphone-14-plus-...  \n",
       "5  https://www.flipkart.com/oneplus-9-pro-5g-morn...  \n",
       "6  https://www.flipkart.com/apple-iphone-14-plus-...  \n",
       "7  https://www.flipkart.com/oneplus-9-pro-5g-pine...  \n",
       "8  https://www.flipkart.com/nokia-c20-plus-smartp...  \n",
       "9  https://www.flipkart.com/apple-iphone-14-plus-...  "
      ]
     },
     "execution_count": 130,
     "metadata": {},
     "output_type": "execute_result"
    }
   ],
   "source": [
    "df=pd.DataFrame({\"Product\":Product,\"Ram\":Ram,\"Price\":Price,\"Product_urls\":Product_urls})\n",
    "df"
   ]
  },
  {
   "cell_type": "code",
   "execution_count": 131,
   "id": "9852f120",
   "metadata": {},
   "outputs": [],
   "source": [
    "df.to_csv(\"mobile_data.csv\")"
   ]
  },
  {
   "cell_type": "markdown",
   "id": "8c389607",
   "metadata": {},
   "source": [
    "# ANSWER NO-5"
   ]
  },
  {
   "cell_type": "code",
   "execution_count": 1,
   "id": "60ef4b58",
   "metadata": {},
   "outputs": [],
   "source": [
    "from bs4 import BeautifulSoup\n",
    "import requests\n",
    "import selenium\n",
    "import pandas as pd\n",
    "from selenium import webdriver\n",
    "import warnings\n",
    "warnings.filterwarnings(\"ignore\")\n",
    "from selenium.webdriver.common.by import By\n",
    "import time\n",
    "from selenium.common.exceptions import StaleElementReferenceException, NoSuchElementException\n"
   ]
  },
  {
   "cell_type": "code",
   "execution_count": 3,
   "id": "dbf84e76",
   "metadata": {},
   "outputs": [],
   "source": [
    "driver=webdriver.Chrome(r\"chromedriver.exe\")"
   ]
  },
  {
   "cell_type": "code",
   "execution_count": 4,
   "id": "cffab1a2",
   "metadata": {},
   "outputs": [],
   "source": [
    "driver.get(\"https://www.google.com/maps/\")"
   ]
  },
  {
   "cell_type": "code",
   "execution_count": 5,
   "id": "a9bc6e55",
   "metadata": {},
   "outputs": [],
   "source": [
    "input_=driver.find_element(By.XPATH,\"//input[@class='searchboxinput xiQnY']\")\n",
    "input_.send_keys(\"Delhi\")"
   ]
  },
  {
   "cell_type": "code",
   "execution_count": 6,
   "id": "630976a6",
   "metadata": {},
   "outputs": [],
   "source": [
    "search=driver.find_element(By.XPATH,\"//button[@class='mL3xi']\")\n",
    "search.click()"
   ]
  },
  {
   "cell_type": "markdown",
   "id": "1cb332f3",
   "metadata": {},
   "source": [
    "# ANSWER NO-7"
   ]
  },
  {
   "cell_type": "code",
   "execution_count": 30,
   "id": "a221462d",
   "metadata": {},
   "outputs": [],
   "source": [
    "from bs4 import BeautifulSoup\n",
    "import requests\n",
    "import selenium\n",
    "import pandas as pd\n",
    "from selenium import webdriver\n",
    "import warnings\n",
    "warnings.filterwarnings(\"ignore\")\n",
    "from selenium.webdriver.common.by import By\n",
    "import time\n",
    "from selenium.common.exceptions import StaleElementReferenceException, NoSuchElementException\n"
   ]
  },
  {
   "cell_type": "code",
   "execution_count": 31,
   "id": "3e8053ea",
   "metadata": {},
   "outputs": [],
   "source": [
    "driver=webdriver.Chrome(r\"chromedriver.exe\")"
   ]
  },
  {
   "cell_type": "code",
   "execution_count": 34,
   "id": "b64aac58",
   "metadata": {},
   "outputs": [],
   "source": [
    "driver.get(\"https://www.digit.in/\")"
   ]
  },
  {
   "cell_type": "code",
   "execution_count": 44,
   "id": "8ff8575a",
   "metadata": {},
   "outputs": [],
   "source": [
    "Product_name=[]\n",
    "try:\n",
    "    product=driver.find_elements(By.XPATH,\"//div[@class='TopNumbeHeading']\")\n",
    "    for i in product:\n",
    "        Product_name.append(i.text)\n",
    "except NoSuchElementException:\n",
    "    Product_name.append(\"-\")"
   ]
  },
  {
   "cell_type": "code",
   "execution_count": 45,
   "id": "f1f2c6e5",
   "metadata": {},
   "outputs": [
    {
     "data": {
      "text/plain": [
       "10"
      ]
     },
     "execution_count": 45,
     "metadata": {},
     "output_type": "execute_result"
    }
   ],
   "source": [
    "len(Product_name)"
   ]
  },
  {
   "cell_type": "code",
   "execution_count": 46,
   "id": "63c4562c",
   "metadata": {},
   "outputs": [
    {
     "name": "stdout",
     "output_type": "stream",
     "text": [
      "['1.\\nMSI Titan GT77-12UHS', '2.\\nAlienware X17 R2', '3.\\nAcer Predator Triton 500 SE PT516-52s', '4.\\nOmen By HP (16-B1371TX)', '5.\\nAcer Predator Helios 300 AN515-45', '6.\\nMSI Delta 15 (A5EFK-083IN)', '7.\\nOmen By HP (16-C0141AX)', '8.\\nLenovo Legion 5i Pro (82RF00MGIN)', '9.\\nAlienware M15 R5 Ryzen Edition Icc-C780001win', '10.\\nLenovo Slim 7 Gen 6 (82K8002JIN)']\n"
     ]
    }
   ],
   "source": [
    "print(Product_name)"
   ]
  },
  {
   "cell_type": "code",
   "execution_count": 37,
   "id": "d416feda",
   "metadata": {},
   "outputs": [],
   "source": [
    "Seller=[]\n",
    "try:\n",
    "    seller=driver.find_elements(By.XPATH,\"//td[@class='smmerchant']\")\n",
    "    for i in seller:\n",
    "        Seller.append(i.text)\n",
    "except NoSuchElementException:\n",
    "    Seller.append(\"-\")"
   ]
  },
  {
   "cell_type": "code",
   "execution_count": 39,
   "id": "81f10e7c",
   "metadata": {},
   "outputs": [
    {
     "data": {
      "text/plain": [
       "10"
      ]
     },
     "execution_count": 39,
     "metadata": {},
     "output_type": "execute_result"
    }
   ],
   "source": [
    "len(Seller)"
   ]
  },
  {
   "cell_type": "code",
   "execution_count": 40,
   "id": "c3dd923e",
   "metadata": {},
   "outputs": [
    {
     "name": "stdout",
     "output_type": "stream",
     "text": [
      "['N/A', 'Croma', 'Amazon', 'Amazon', 'N/A', 'N/A', 'Croma', 'Amazon', 'Amazon', 'Croma']\n"
     ]
    }
   ],
   "source": [
    "print(Seller)"
   ]
  },
  {
   "cell_type": "code",
   "execution_count": 41,
   "id": "068c469b",
   "metadata": {},
   "outputs": [],
   "source": [
    "Price=[]\n",
    "try:\n",
    "    price=driver.find_elements(By.XPATH,\"//td[@class='smprice']\")\n",
    "    for i in price:\n",
    "        Price.append(i.text)\n",
    "except NoSuchElementException:\n",
    "    Price.append(\"-\")"
   ]
  },
  {
   "cell_type": "code",
   "execution_count": 42,
   "id": "7a180994",
   "metadata": {},
   "outputs": [
    {
     "data": {
      "text/plain": [
       "10"
      ]
     },
     "execution_count": 42,
     "metadata": {},
     "output_type": "execute_result"
    }
   ],
   "source": [
    "len(Price)"
   ]
  },
  {
   "cell_type": "code",
   "execution_count": 43,
   "id": "73208bc9",
   "metadata": {},
   "outputs": [
    {
     "name": "stdout",
     "output_type": "stream",
     "text": [
      "['N/A', '₹ 389,990', '₹ 229,990', '₹ 176,490', '₹ 172,999', '₹ 188,990', '₹ 124,990', '₹ 169,990', '₹ 174,000', '₹ 131,990']\n"
     ]
    }
   ],
   "source": [
    "print(Price)"
   ]
  },
  {
   "cell_type": "code",
   "execution_count": 47,
   "id": "7fb16895",
   "metadata": {},
   "outputs": [
    {
     "data": {
      "text/html": [
       "<div>\n",
       "<style scoped>\n",
       "    .dataframe tbody tr th:only-of-type {\n",
       "        vertical-align: middle;\n",
       "    }\n",
       "\n",
       "    .dataframe tbody tr th {\n",
       "        vertical-align: top;\n",
       "    }\n",
       "\n",
       "    .dataframe thead th {\n",
       "        text-align: right;\n",
       "    }\n",
       "</style>\n",
       "<table border=\"1\" class=\"dataframe\">\n",
       "  <thead>\n",
       "    <tr style=\"text-align: right;\">\n",
       "      <th></th>\n",
       "      <th>Product_name</th>\n",
       "      <th>Seller</th>\n",
       "      <th>Price</th>\n",
       "    </tr>\n",
       "  </thead>\n",
       "  <tbody>\n",
       "    <tr>\n",
       "      <th>0</th>\n",
       "      <td>1.\\nMSI Titan GT77-12UHS</td>\n",
       "      <td>N/A</td>\n",
       "      <td>N/A</td>\n",
       "    </tr>\n",
       "    <tr>\n",
       "      <th>1</th>\n",
       "      <td>2.\\nAlienware X17 R2</td>\n",
       "      <td>Croma</td>\n",
       "      <td>₹ 389,990</td>\n",
       "    </tr>\n",
       "    <tr>\n",
       "      <th>2</th>\n",
       "      <td>3.\\nAcer Predator Triton 500 SE PT516-52s</td>\n",
       "      <td>Amazon</td>\n",
       "      <td>₹ 229,990</td>\n",
       "    </tr>\n",
       "    <tr>\n",
       "      <th>3</th>\n",
       "      <td>4.\\nOmen By HP (16-B1371TX)</td>\n",
       "      <td>Amazon</td>\n",
       "      <td>₹ 176,490</td>\n",
       "    </tr>\n",
       "    <tr>\n",
       "      <th>4</th>\n",
       "      <td>5.\\nAcer Predator Helios 300 AN515-45</td>\n",
       "      <td>N/A</td>\n",
       "      <td>₹ 172,999</td>\n",
       "    </tr>\n",
       "    <tr>\n",
       "      <th>5</th>\n",
       "      <td>6.\\nMSI Delta 15 (A5EFK-083IN)</td>\n",
       "      <td>N/A</td>\n",
       "      <td>₹ 188,990</td>\n",
       "    </tr>\n",
       "    <tr>\n",
       "      <th>6</th>\n",
       "      <td>7.\\nOmen By HP (16-C0141AX)</td>\n",
       "      <td>Croma</td>\n",
       "      <td>₹ 124,990</td>\n",
       "    </tr>\n",
       "    <tr>\n",
       "      <th>7</th>\n",
       "      <td>8.\\nLenovo Legion 5i Pro (82RF00MGIN)</td>\n",
       "      <td>Amazon</td>\n",
       "      <td>₹ 169,990</td>\n",
       "    </tr>\n",
       "    <tr>\n",
       "      <th>8</th>\n",
       "      <td>9.\\nAlienware M15 R5 Ryzen Edition Icc-C780001win</td>\n",
       "      <td>Amazon</td>\n",
       "      <td>₹ 174,000</td>\n",
       "    </tr>\n",
       "    <tr>\n",
       "      <th>9</th>\n",
       "      <td>10.\\nLenovo Slim 7 Gen 6 (82K8002JIN)</td>\n",
       "      <td>Croma</td>\n",
       "      <td>₹ 131,990</td>\n",
       "    </tr>\n",
       "  </tbody>\n",
       "</table>\n",
       "</div>"
      ],
      "text/plain": [
       "                                        Product_name  Seller      Price\n",
       "0                           1.\\nMSI Titan GT77-12UHS     N/A        N/A\n",
       "1                               2.\\nAlienware X17 R2   Croma  ₹ 389,990\n",
       "2          3.\\nAcer Predator Triton 500 SE PT516-52s  Amazon  ₹ 229,990\n",
       "3                        4.\\nOmen By HP (16-B1371TX)  Amazon  ₹ 176,490\n",
       "4              5.\\nAcer Predator Helios 300 AN515-45     N/A  ₹ 172,999\n",
       "5                     6.\\nMSI Delta 15 (A5EFK-083IN)     N/A  ₹ 188,990\n",
       "6                        7.\\nOmen By HP (16-C0141AX)   Croma  ₹ 124,990\n",
       "7              8.\\nLenovo Legion 5i Pro (82RF00MGIN)  Amazon  ₹ 169,990\n",
       "8  9.\\nAlienware M15 R5 Ryzen Edition Icc-C780001win  Amazon  ₹ 174,000\n",
       "9              10.\\nLenovo Slim 7 Gen 6 (82K8002JIN)   Croma  ₹ 131,990"
      ]
     },
     "execution_count": 47,
     "metadata": {},
     "output_type": "execute_result"
    }
   ],
   "source": [
    "df=pd.DataFrame({\"Product_name\":Product_name,\"Seller\":Seller,\"Price\":Price})\n",
    "df"
   ]
  },
  {
   "cell_type": "code",
   "execution_count": 48,
   "id": "dfa66d69",
   "metadata": {},
   "outputs": [],
   "source": [
    "df.to_csv(\"Laptop_data\")"
   ]
  },
  {
   "cell_type": "markdown",
   "id": "df135058",
   "metadata": {},
   "source": [
    "# ANSWER NO-8 "
   ]
  },
  {
   "cell_type": "code",
   "execution_count": 44,
   "id": "9a4b2031",
   "metadata": {},
   "outputs": [],
   "source": [
    "from bs4 import BeautifulSoup\n",
    "import requests\n",
    "import selenium\n",
    "import pandas as pd\n",
    "from selenium import webdriver\n",
    "import warnings\n",
    "warnings.filterwarnings(\"ignore\")\n",
    "from selenium.webdriver.common.by import By\n",
    "import time\n",
    "from selenium.common.exceptions import StaleElementReferenceException, NoSuchElementException\n"
   ]
  },
  {
   "cell_type": "code",
   "execution_count": 45,
   "id": "44fc1d96",
   "metadata": {},
   "outputs": [],
   "source": [
    "driver=webdriver.Chrome(r\"chromedriver.exe\")"
   ]
  },
  {
   "cell_type": "code",
   "execution_count": 46,
   "id": "8fb88271",
   "metadata": {},
   "outputs": [],
   "source": [
    "driver.get(\"https://www.forbes.com/\")"
   ]
  },
  {
   "cell_type": "code",
   "execution_count": 51,
   "id": "e1c130a2",
   "metadata": {},
   "outputs": [],
   "source": [
    "Rank=[]\n",
    "try:\n",
    "    rank=driver.find_elements(By.XPATH,\"//div[@class='rank']\")\n",
    "    for i in rank:\n",
    "        Rank.append(i.text)\n",
    "except NoSuchElementException:\n",
    "    Rank.append(\"-\")"
   ]
  },
  {
   "cell_type": "code",
   "execution_count": 52,
   "id": "864594d2",
   "metadata": {},
   "outputs": [
    {
     "data": {
      "text/plain": [
       "200"
      ]
     },
     "execution_count": 52,
     "metadata": {},
     "output_type": "execute_result"
    }
   ],
   "source": [
    "len(Rank)"
   ]
  },
  {
   "cell_type": "code",
   "execution_count": 54,
   "id": "a09653b1",
   "metadata": {},
   "outputs": [],
   "source": [
    "Name=[]\n",
    "try:\n",
    "    name=driver.find_elements(By.XPATH,\"//div[@class='personName']\")\n",
    "    for i in name:\n",
    "        Name.append(i.text)\n",
    "except NoSuchElementException:\n",
    "    Name.append(\"-\")"
   ]
  },
  {
   "cell_type": "code",
   "execution_count": 55,
   "id": "66debbf0",
   "metadata": {},
   "outputs": [
    {
     "data": {
      "text/plain": [
       "200"
      ]
     },
     "execution_count": 55,
     "metadata": {},
     "output_type": "execute_result"
    }
   ],
   "source": [
    "len(Name)"
   ]
  },
  {
   "cell_type": "code",
   "execution_count": 56,
   "id": "8086b757",
   "metadata": {},
   "outputs": [],
   "source": [
    "Networth=[]\n",
    "try:\n",
    "    networth=driver.find_elements(By.XPATH,\"//div[@class='netWorth']\")\n",
    "    for i in networth:\n",
    "        Networth.append(i.text)\n",
    "except NoSuchElementException:\n",
    "    Networth.append(\"-\")"
   ]
  },
  {
   "cell_type": "code",
   "execution_count": 57,
   "id": "14f891cf",
   "metadata": {},
   "outputs": [
    {
     "data": {
      "text/plain": [
       "200"
      ]
     },
     "execution_count": 57,
     "metadata": {},
     "output_type": "execute_result"
    }
   ],
   "source": [
    "len(Networth)"
   ]
  },
  {
   "cell_type": "code",
   "execution_count": 59,
   "id": "cbf1e7e9",
   "metadata": {},
   "outputs": [],
   "source": [
    "Age=[]\n",
    "try:\n",
    "    age=driver.find_elements(By.XPATH,\"//div[@class='age']\")\n",
    "    for i in age:\n",
    "        Age.append(i.text)\n",
    "except NoSuchElementException:\n",
    "    Age.append(\"-\")"
   ]
  },
  {
   "cell_type": "code",
   "execution_count": 60,
   "id": "9c9ac545",
   "metadata": {},
   "outputs": [
    {
     "data": {
      "text/plain": [
       "200"
      ]
     },
     "execution_count": 60,
     "metadata": {},
     "output_type": "execute_result"
    }
   ],
   "source": [
    "len(Age)"
   ]
  },
  {
   "cell_type": "code",
   "execution_count": 61,
   "id": "2c7847ef",
   "metadata": {},
   "outputs": [],
   "source": [
    "Citizenship=[]\n",
    "try:\n",
    "    citizenship=driver.find_elements(By.XPATH,\"//div[@class='countryOfCitizenship']\")\n",
    "    for i in citizenship:\n",
    "        Citizenship.append(i.text)\n",
    "except NoSuchElementException:\n",
    "    Citizenship.append(\"-\")"
   ]
  },
  {
   "cell_type": "code",
   "execution_count": 62,
   "id": "9902c68d",
   "metadata": {},
   "outputs": [
    {
     "data": {
      "text/plain": [
       "200"
      ]
     },
     "execution_count": 62,
     "metadata": {},
     "output_type": "execute_result"
    }
   ],
   "source": [
    "len(Citizenship)"
   ]
  },
  {
   "cell_type": "code",
   "execution_count": 63,
   "id": "c50dfda0",
   "metadata": {},
   "outputs": [],
   "source": [
    "Source=[]\n",
    "try:\n",
    "    source=driver.find_elements(By.XPATH,\"//div[@class='source']\")\n",
    "    for i in source:\n",
    "        Source.append(i.text)\n",
    "except NoSuchElementException:\n",
    "    Source.append(\"-\")"
   ]
  },
  {
   "cell_type": "code",
   "execution_count": 64,
   "id": "b11561c9",
   "metadata": {},
   "outputs": [
    {
     "data": {
      "text/plain": [
       "200"
      ]
     },
     "execution_count": 64,
     "metadata": {},
     "output_type": "execute_result"
    }
   ],
   "source": [
    "len(Source)"
   ]
  },
  {
   "cell_type": "code",
   "execution_count": 65,
   "id": "a5e69383",
   "metadata": {},
   "outputs": [],
   "source": [
    "Industry=[]\n",
    "try:\n",
    "    industry=driver.find_elements(By.XPATH,\"//div[@class='category']\")\n",
    "    for i in source:\n",
    "        Industry.append(i.text)\n",
    "except NoSuchElementException:\n",
    "    Source.append(\"-\")"
   ]
  },
  {
   "cell_type": "code",
   "execution_count": 66,
   "id": "1677a427",
   "metadata": {},
   "outputs": [
    {
     "data": {
      "text/plain": [
       "200"
      ]
     },
     "execution_count": 66,
     "metadata": {},
     "output_type": "execute_result"
    }
   ],
   "source": [
    "len(Industry)"
   ]
  },
  {
   "cell_type": "code",
   "execution_count": 67,
   "id": "6e4cffb3",
   "metadata": {},
   "outputs": [
    {
     "data": {
      "text/html": [
       "<div>\n",
       "<style scoped>\n",
       "    .dataframe tbody tr th:only-of-type {\n",
       "        vertical-align: middle;\n",
       "    }\n",
       "\n",
       "    .dataframe tbody tr th {\n",
       "        vertical-align: top;\n",
       "    }\n",
       "\n",
       "    .dataframe thead th {\n",
       "        text-align: right;\n",
       "    }\n",
       "</style>\n",
       "<table border=\"1\" class=\"dataframe\">\n",
       "  <thead>\n",
       "    <tr style=\"text-align: right;\">\n",
       "      <th></th>\n",
       "      <th>Rank</th>\n",
       "      <th>Name</th>\n",
       "      <th>Networth</th>\n",
       "      <th>Age</th>\n",
       "      <th>Citizenship</th>\n",
       "      <th>Source</th>\n",
       "      <th>Industry</th>\n",
       "    </tr>\n",
       "  </thead>\n",
       "  <tbody>\n",
       "    <tr>\n",
       "      <th>0</th>\n",
       "      <td>1.</td>\n",
       "      <td>Elon Musk</td>\n",
       "      <td>$219 B</td>\n",
       "      <td>50</td>\n",
       "      <td>United States</td>\n",
       "      <td>Tesla, SpaceX</td>\n",
       "      <td>Tesla, SpaceX</td>\n",
       "    </tr>\n",
       "    <tr>\n",
       "      <th>1</th>\n",
       "      <td>2.</td>\n",
       "      <td>Jeff Bezos</td>\n",
       "      <td>$171 B</td>\n",
       "      <td>58</td>\n",
       "      <td>United States</td>\n",
       "      <td>Amazon</td>\n",
       "      <td>Amazon</td>\n",
       "    </tr>\n",
       "    <tr>\n",
       "      <th>2</th>\n",
       "      <td>3.</td>\n",
       "      <td>Bernard Arnault &amp; family</td>\n",
       "      <td>$158 B</td>\n",
       "      <td>73</td>\n",
       "      <td>France</td>\n",
       "      <td>LVMH</td>\n",
       "      <td>LVMH</td>\n",
       "    </tr>\n",
       "    <tr>\n",
       "      <th>3</th>\n",
       "      <td>4.</td>\n",
       "      <td>Bill Gates</td>\n",
       "      <td>$129 B</td>\n",
       "      <td>66</td>\n",
       "      <td>United States</td>\n",
       "      <td>Microsoft</td>\n",
       "      <td>Microsoft</td>\n",
       "    </tr>\n",
       "    <tr>\n",
       "      <th>4</th>\n",
       "      <td>5.</td>\n",
       "      <td>Warren Buffett</td>\n",
       "      <td>$118 B</td>\n",
       "      <td>91</td>\n",
       "      <td>United States</td>\n",
       "      <td>Berkshire Hathaway</td>\n",
       "      <td>Berkshire Hathaway</td>\n",
       "    </tr>\n",
       "  </tbody>\n",
       "</table>\n",
       "</div>"
      ],
      "text/plain": [
       "  Rank                      Name Networth Age    Citizenship  \\\n",
       "0   1.                 Elon Musk   $219 B  50  United States   \n",
       "1   2.                Jeff Bezos   $171 B  58  United States   \n",
       "2   3.  Bernard Arnault & family   $158 B  73         France   \n",
       "3   4.                Bill Gates   $129 B  66  United States   \n",
       "4   5.            Warren Buffett   $118 B  91  United States   \n",
       "\n",
       "               Source            Industry  \n",
       "0       Tesla, SpaceX       Tesla, SpaceX  \n",
       "1              Amazon              Amazon  \n",
       "2                LVMH                LVMH  \n",
       "3           Microsoft           Microsoft  \n",
       "4  Berkshire Hathaway  Berkshire Hathaway  "
      ]
     },
     "execution_count": 67,
     "metadata": {},
     "output_type": "execute_result"
    }
   ],
   "source": [
    "df=pd.DataFrame({\"Rank\":Rank,\"Name\":Name,\"Networth\":Networth,\"Age\":Age,\"Citizenship\":Citizenship,\"Source\":Source,\"Industry\":Industry})\n",
    "df.head()"
   ]
  },
  {
   "cell_type": "code",
   "execution_count": 68,
   "id": "0f15ea56",
   "metadata": {},
   "outputs": [],
   "source": [
    "df.to_csv(\"BillionairesData\")"
   ]
  },
  {
   "cell_type": "markdown",
   "id": "9409b21a",
   "metadata": {},
   "source": [
    "# ANSWER NO-9"
   ]
  },
  {
   "cell_type": "code",
   "execution_count": 87,
   "id": "c7c872ea",
   "metadata": {},
   "outputs": [],
   "source": [
    "from bs4 import BeautifulSoup\n",
    "import requests\n",
    "import selenium\n",
    "import pandas as pd\n",
    "from selenium import webdriver\n",
    "import warnings\n",
    "warnings.filterwarnings(\"ignore\")\n",
    "from selenium.webdriver.common.by import By\n",
    "import time\n",
    "from selenium.common.exceptions import StaleElementReferenceException, NoSuchElementException\n"
   ]
  },
  {
   "cell_type": "code",
   "execution_count": 88,
   "id": "0d28e34c",
   "metadata": {},
   "outputs": [],
   "source": [
    "driver=webdriver.Chrome(r\"chromedriver.exe\")"
   ]
  },
  {
   "cell_type": "code",
   "execution_count": 89,
   "id": "5ee65477",
   "metadata": {},
   "outputs": [],
   "source": [
    "driver.get(\"https://www.YouTube.com/\")"
   ]
  },
  {
   "cell_type": "code",
   "execution_count": 90,
   "id": "03b6c70b",
   "metadata": {},
   "outputs": [],
   "source": [
    "input_=driver.find_element(By.XPATH,\"//input[@id='search']\")\n",
    "input_.send_keys(\"Kesariya Mashup \")"
   ]
  },
  {
   "cell_type": "code",
   "execution_count": 91,
   "id": "6b4d7afb",
   "metadata": {},
   "outputs": [],
   "source": [
    "search=driver.find_element(By.XPATH,\"//button[@id='search-icon-legacy']\")\n",
    "search.click()"
   ]
  },
  {
   "cell_type": "code",
   "execution_count": 95,
   "id": "4844551d",
   "metadata": {},
   "outputs": [],
   "source": [
    "for _ in range(1000):\n",
    "    driver.execute_script(\"window.scrollBy(0,1000)\")\n",
    "Comments=[]\n",
    "comments=driver.find_elements(By.XPATH,\"//span[@class='style-scope yt-formatted-string']\")\n",
    "for i in comments:\n",
    "    Comments.append(i.text)"
   ]
  },
  {
   "cell_type": "code",
   "execution_count": 96,
   "id": "a27d45f9",
   "metadata": {},
   "outputs": [
    {
     "data": {
      "text/plain": [
       "326"
      ]
     },
     "execution_count": 96,
     "metadata": {},
     "output_type": "execute_result"
    }
   ],
   "source": [
    "len(Comments)"
   ]
  },
  {
   "cell_type": "code",
   "execution_count": 97,
   "id": "df18431c",
   "metadata": {},
   "outputs": [
    {
     "name": "stdout",
     "output_type": "stream",
     "text": [
      "['', '', '', '', '', '', '', '', '', '', '', '', 'Kesariya Mashup | Jay Guldekar | Brahmastra| Arijit Singh | Ranbir K Alia | Kabira | Mere Bina | Itni Si Baat Hai | Zara Sa [Bollywood LoFi]\\n\\nInstagram: ', '', '', '', '', '', '', '', '', '', '', '', '', '', '1,436', 'Comments', 'Pinned by', 'Jay Guldekar', 'Mashup acha laga to Instagram par support kardena ', '', '', \"Dear parents: Just because your child is smiling at their phone, doesn't mean they have a boyfriend or girlfriend, they are watching this masterpiece! \", '.', 'Arijit singh my favourite singer', '', 'A- Aayat', '', 'B- Binte dil', '', 'C- Channa Mereya', '', '', '', '', '', '', '', '', '', '', '', '', '', '', '', '', '', '', '', '', '', '', '', '', '', '', '', '', '', '', '', '', '', '', '', '', '', '', '', '', '', '', '', '', 'Ufff that transition between ', ' and ', ' gave me chills as we all know their real life stories ', 'This man really has a good taste of music ', '  just love all his mashups...', 'I want this on Spotify', '️', ' Entry of vocal god KK sir ', '️', \"Subscribing you was the best choice I've ever made in my life ...Thanks for your everything ....Your mashups gives another level of happiness and soothness to the soul ...!! \", 'one of the best mashups i have ever heard ', 'Tão linda a música e com esse conjunto de vozes, melhor ainda ', ' abraços do Brasil 🇧🇷', 'Hits the right spot at heart. Such a fantastic combination of amazing songs. Much appreciated ', '️', 'I just truly addicted to this mash-up ', 'can you add this on Spotify please!!!', \"I'm listening this everyday \", '️', '', 'This really refresh my soul ', '', 'Such a masterpiece...<3 hats off to the editor', 'We will never forget those Teenage years and those incomplete first Love of our life ... ', '️', '️', \"We have lot of languages.. but music has only one language..that's the language of love \", '..addicted to this song', 'Feeling relaxed after listening this beautiful mashups ', '️...', ' love it buddy..', 'This is truly the most amazing mix I have ever heard. I am so glad that there are people out there who appreciate the raw talent in music. I feel that instruments pierce the soul with their beauty. Yes, vocals create a similar sensation, but they are not as powerful. This is truly beautiful, so bravo ', '🇮🇳🇫🇷', '️', '', 'God Bless You ', 'Your mashups are always unique and i love it so much ', '️', '️', 'This song gives me goosebumps ', ' seriously I love it .....aww it is', ' great effort and nice mashup ', '@', ' gives me butterflies ', '️', '️', '️', '️', '1st time = Its ok', '', '2nd time = Nice', '', '3rd time = Amazing', '', '4th time = Addictive ', '', '', '', '', 'I love this mashup ', '️', 'Addicted to your mashups', 'by listening this music really feel better ', 'This mashup took my heart', '️', 'What a Mashup bro ', '', 'Loved it ', 'Excellent mashup dude...such a soothing one ', '️', '', '', 'Thanks for this Jay', '️', \"Can't stop hearing again and again \", 'This hits harder than my father’s belt. ', ' ', ' loved this part', 'A great mashup, enjoyed this ', 'Such a lovable , listenable and heart touching   song ', 'Waiting for kesariya full song', 'This mashup is better than original song', 'nice mashup ', ' keep it up ', '️', ' is just ', '️', 'Never judge a book by its cover …', '️', ' reality at its peak', 'Loved it! ', '️', 'What a song it gives us a different vibe', 'arijit you killed it', 'Underrated Channel ', ' thank God I found this mash-up song ', ' God bless you broda ', 'What a masterpiece mashup', '️', 'Excellent mashup dude...such a soothing one ', '️', '', '', 'Thanks for this Jay', '️', \"Can't stop hearing again and again \", 'This hits harder than my father’s belt. ', ' ', ' loved this part', 'A great mashup, enjoyed this ', 'Such a lovable , listenable and heart touching   song ', 'Waiting for kesariya full song', 'This mashup is better than original song', 'nice mashup ', ' keep it up ', '️', ' is just ', '️', 'Never judge a book by its cover …', '️', ' reality at its peak', 'Loved it! ', '️', 'What a song it gives us a different vibe', 'arijit you killed it', 'Underrated Channel ', ' thank God I found this mash-up song ', ' God bless you broda ', 'What a masterpiece mashup', '️', 'Excellent mashup dude...such a soothing one ', '️', '', '', 'Thanks for this Jay', '️', \"Can't stop hearing again and again \", 'This hits harder than my father’s belt. ', ' ', ' loved this part', 'A great mashup, enjoyed this ', 'Such a lovable , listenable and heart touching   song ', 'Waiting for kesariya full song', 'This mashup is better than original song', 'nice mashup ', ' keep it up ', '️', ' is just ', '️', 'Never judge a book by its cover …', '️', ' reality at its peak', 'Loved it! ', '️', 'What a song it gives us a different vibe', 'arijit you killed it', 'Underrated Channel ', ' thank God I found this mash-up song ', ' God bless you broda ', 'What a masterpiece mashup', '️', '', '', '', '', '', '', '', '', '', '', '', '', '', '', '', '', '', '', '', '', '', '', '', '', '', '', '', '', '', '', '', '', '', '', '', '', '', '', '', '', '', '', '', '', '', '', '', '', '', '', '', '', '', '', '', '', '', '', '', '', '', '', '', '', '', '', '', '', '', '', '', '', '', '', '', '', '', '', '']\n"
     ]
    }
   ],
   "source": [
    "print(Comments)"
   ]
  },
  {
   "cell_type": "markdown",
   "id": "7974816c",
   "metadata": {},
   "source": [
    "# ANSWER NO-10"
   ]
  },
  {
   "cell_type": "code",
   "execution_count": 1,
   "id": "e57121ca",
   "metadata": {},
   "outputs": [],
   "source": [
    "from bs4 import BeautifulSoup\n",
    "import requests\n",
    "import selenium\n",
    "import pandas as pd\n",
    "from selenium import webdriver\n",
    "import warnings\n",
    "warnings.filterwarnings(\"ignore\")\n",
    "from selenium.webdriver.common.by import By\n",
    "import time\n",
    "from selenium.common.exceptions import StaleElementReferenceException, NoSuchElementException\n"
   ]
  },
  {
   "cell_type": "code",
   "execution_count": 2,
   "id": "2f0ab48a",
   "metadata": {},
   "outputs": [],
   "source": [
    "driver=webdriver.Chrome(r\"chromedriver.exe\")"
   ]
  },
  {
   "cell_type": "code",
   "execution_count": 3,
   "id": "04856552",
   "metadata": {},
   "outputs": [],
   "source": [
    "driver.get(\"https://www.hostelworld.com/\")"
   ]
  },
  {
   "cell_type": "code",
   "execution_count": 4,
   "id": "a0d30c7e",
   "metadata": {},
   "outputs": [],
   "source": [
    "input_=driver.find_element(By.XPATH,\"//input[@id='search-input-field']\")\n",
    "input_.send_keys(\"London\")"
   ]
  },
  {
   "cell_type": "code",
   "execution_count": 5,
   "id": "d82a3cc9",
   "metadata": {},
   "outputs": [],
   "source": [
    "search=driver.find_element(By.XPATH,\"//button[@id='search-button']\")\n",
    "search.click()"
   ]
  },
  {
   "cell_type": "code",
   "execution_count": 22,
   "id": "a61d7250",
   "metadata": {},
   "outputs": [],
   "source": [
    "Hostel_name=[]\n",
    "\n",
    "\n",
    "hostel=driver.find_elements(By.XPATH,\"//h2[@class='title title-6']\")\n",
    "for i in hostel[0:25]:\n",
    "    Hostel_name.append(i.text)\n",
    "    \n",
    "        "
   ]
  },
  {
   "cell_type": "code",
   "execution_count": 23,
   "id": "4524dd1d",
   "metadata": {},
   "outputs": [
    {
     "data": {
      "text/plain": [
       "25"
      ]
     },
     "execution_count": 23,
     "metadata": {},
     "output_type": "execute_result"
    }
   ],
   "source": [
    "len(Hostel_name)"
   ]
  },
  {
   "cell_type": "code",
   "execution_count": 24,
   "id": "87c18148",
   "metadata": {},
   "outputs": [],
   "source": [
    "Distance_from_city_centre=[]\n",
    "\n",
    "\n",
    "distance=driver.find_elements(By.XPATH,\"//span[@class='description']\")\n",
    "for i in distance[0:25]:\n",
    "    Distance_from_city_centre.append(i.text)"
   ]
  },
  {
   "cell_type": "code",
   "execution_count": 25,
   "id": "c9e392c4",
   "metadata": {},
   "outputs": [
    {
     "data": {
      "text/plain": [
       "25"
      ]
     },
     "execution_count": 25,
     "metadata": {},
     "output_type": "execute_result"
    }
   ],
   "source": [
    "len(Distance_from_city_centre)"
   ]
  },
  {
   "cell_type": "code",
   "execution_count": 26,
   "id": "98426bc2",
   "metadata": {},
   "outputs": [],
   "source": [
    "Ratings=[]\n",
    "try:\n",
    "    rating=driver.find_elements(By.XPATH,\"//div[@class='score orange big']\")\n",
    "    for i in rating[0:25]:\n",
    "        Ratings.append(i.text)\n",
    "except NoSuchElementException:\n",
    "    Ratings.append(\"-\")"
   ]
  },
  {
   "cell_type": "code",
   "execution_count": 27,
   "id": "6c75f58b",
   "metadata": {},
   "outputs": [
    {
     "data": {
      "text/plain": [
       "25"
      ]
     },
     "execution_count": 27,
     "metadata": {},
     "output_type": "execute_result"
    }
   ],
   "source": [
    "len(Ratings)"
   ]
  },
  {
   "cell_type": "code",
   "execution_count": 29,
   "id": "982eb870",
   "metadata": {},
   "outputs": [],
   "source": [
    "Total_reviews=[]\n",
    "reviews=driver.find_elements(By.XPATH,\"//div[@class='reviews']\")\n",
    "for i in reviews[0:25]:\n",
    "    Total_reviews.append(i.text)\n",
    "    "
   ]
  },
  {
   "cell_type": "code",
   "execution_count": 30,
   "id": "4d894276",
   "metadata": {},
   "outputs": [
    {
     "data": {
      "text/plain": [
       "25"
      ]
     },
     "execution_count": 30,
     "metadata": {},
     "output_type": "execute_result"
    }
   ],
   "source": [
    "len(Total_reviews)"
   ]
  },
  {
   "cell_type": "code",
   "execution_count": 52,
   "id": "9582346f",
   "metadata": {},
   "outputs": [],
   "source": [
    "Private_from_price=[]\n",
    "try:\n",
    "    price=driver.find_elements(By.XPATH,\"//div[@class='price title-5']\")\n",
    "    for i in price[0:25]:\n",
    "        Private_from_price.append(i.text)\n",
    "except NoSuchElementException:\n",
    "    Private_from_price.append(\"-\")"
   ]
  },
  {
   "cell_type": "code",
   "execution_count": 53,
   "id": "8e777396",
   "metadata": {},
   "outputs": [
    {
     "data": {
      "text/plain": [
       "25"
      ]
     },
     "execution_count": 53,
     "metadata": {},
     "output_type": "execute_result"
    }
   ],
   "source": [
    "len(Private_from_price)"
   ]
  },
  {
   "cell_type": "code",
   "execution_count": 58,
   "id": "32f83eea",
   "metadata": {},
   "outputs": [],
   "source": [
    "Facilities=[]\n",
    "try:\n",
    "    facility=driver.find_elements(By.XPATH,\"//div[@class='facilities-label facilities']\")\n",
    "    for i in facility[0:25]:\n",
    "        Facilities.append(i.text)\n",
    "except NoSuchElementException:\n",
    "    Facilities.append(\"-\")"
   ]
  },
  {
   "cell_type": "code",
   "execution_count": 60,
   "id": "dca48245",
   "metadata": {},
   "outputs": [
    {
     "data": {
      "text/plain": [
       "25"
      ]
     },
     "execution_count": 60,
     "metadata": {},
     "output_type": "execute_result"
    }
   ],
   "source": [
    "len(Facilities)"
   ]
  },
  {
   "cell_type": "code",
   "execution_count": 61,
   "id": "4191d1f0",
   "metadata": {},
   "outputs": [],
   "source": [
    "Property_description=[]\n",
    "try:\n",
    "    description=driver.find_elements(By.XPATH,\"//div[@class='rating-factors prop-card-tablet rating-factors small']\")\n",
    "    for i in description[0:25]:\n",
    "        Property_description.append(i.text)\n",
    "except NoSuchElementException:\n",
    "    Property_description.append(\"-\")"
   ]
  },
  {
   "cell_type": "code",
   "execution_count": 62,
   "id": "32340b54",
   "metadata": {},
   "outputs": [
    {
     "data": {
      "text/plain": [
       "25"
      ]
     },
     "execution_count": 62,
     "metadata": {},
     "output_type": "execute_result"
    }
   ],
   "source": [
    "len(Property_description)"
   ]
  },
  {
   "cell_type": "code",
   "execution_count": 64,
   "id": "e5e6b581",
   "metadata": {},
   "outputs": [
    {
     "data": {
      "text/html": [
       "<div>\n",
       "<style scoped>\n",
       "    .dataframe tbody tr th:only-of-type {\n",
       "        vertical-align: middle;\n",
       "    }\n",
       "\n",
       "    .dataframe tbody tr th {\n",
       "        vertical-align: top;\n",
       "    }\n",
       "\n",
       "    .dataframe thead th {\n",
       "        text-align: right;\n",
       "    }\n",
       "</style>\n",
       "<table border=\"1\" class=\"dataframe\">\n",
       "  <thead>\n",
       "    <tr style=\"text-align: right;\">\n",
       "      <th></th>\n",
       "      <th>Hostel_name</th>\n",
       "      <th>Distance_from_city_centre</th>\n",
       "      <th>Ratings</th>\n",
       "      <th>Total_reviews</th>\n",
       "      <th>Private_from_price</th>\n",
       "      <th>Facilities</th>\n",
       "      <th>Property_description</th>\n",
       "    </tr>\n",
       "  </thead>\n",
       "  <tbody>\n",
       "    <tr>\n",
       "      <th>0</th>\n",
       "      <td>Wombat's City Hostel London</td>\n",
       "      <td>Hostel - 3.6km from city centre</td>\n",
       "      <td>8.9</td>\n",
       "      <td>14420 Total Reviews</td>\n",
       "      <td>Rs15953.5 Rs12763</td>\n",
       "      <td>Free WiFi\\nFollows Covid-19 sanitation guidance</td>\n",
       "      <td>Perfect Location\\nSuperb Staff\\nFantastic Clea...</td>\n",
       "    </tr>\n",
       "    <tr>\n",
       "      <th>1</th>\n",
       "      <td>St Christopher's Village</td>\n",
       "      <td>Hostel - 1.8km from city centre</td>\n",
       "      <td>8.0</td>\n",
       "      <td>11770 Total Reviews</td>\n",
       "      <td>Rs3663.42 Rs2931</td>\n",
       "      <td>Free WiFi\\nFollows Covid-19 sanitation guidance</td>\n",
       "      <td>Perfect Location\\nMarvellous Staff\\nExcellent ...</td>\n",
       "    </tr>\n",
       "    <tr>\n",
       "      <th>2</th>\n",
       "      <td>Hostel One Notting Hill</td>\n",
       "      <td>Hostel - 5.5km from city centre</td>\n",
       "      <td>9.3</td>\n",
       "      <td>1643 Total Reviews</td>\n",
       "      <td>Rs1762.62 Rs1586</td>\n",
       "      <td>Free WiFi</td>\n",
       "      <td>Perfect Location\\nSuperb Staff\\nFantastic Clea...</td>\n",
       "    </tr>\n",
       "    <tr>\n",
       "      <th>3</th>\n",
       "      <td>Urbany Hostel London</td>\n",
       "      <td>Hostel - 5.4km from city centre</td>\n",
       "      <td>9.2</td>\n",
       "      <td>577 Total Reviews</td>\n",
       "      <td>Rs12791</td>\n",
       "      <td>Free WiFi\\nFollows Covid-19 sanitation guidance</td>\n",
       "      <td>Perfect Location\\nSuperb Staff\\nFantastic Clea...</td>\n",
       "    </tr>\n",
       "    <tr>\n",
       "      <th>4</th>\n",
       "      <td>Generator London</td>\n",
       "      <td>Hostel - 3km from city centre</td>\n",
       "      <td>7.7</td>\n",
       "      <td>7297 Total Reviews</td>\n",
       "      <td>Rs3090</td>\n",
       "      <td>Free WiFi\\nFollows Covid-19 sanitation guidance</td>\n",
       "      <td>Perfect Location\\nMarvellous Staff\\nExcellent ...</td>\n",
       "    </tr>\n",
       "    <tr>\n",
       "      <th>5</th>\n",
       "      <td>Safestay London Elephant &amp; Castle</td>\n",
       "      <td>Hostel - 1.7km from city centre</td>\n",
       "      <td>7.3</td>\n",
       "      <td>4736 Total Reviews</td>\n",
       "      <td>Rs9974</td>\n",
       "      <td>Free WiFi\\nFollows Covid-19 sanitation guidance</td>\n",
       "      <td>Wonderful Location\\nMarvellous Staff\\nExcellen...</td>\n",
       "    </tr>\n",
       "    <tr>\n",
       "      <th>6</th>\n",
       "      <td>Smart Russell Square Hostel</td>\n",
       "      <td>Hostel - 2.6km from city centre</td>\n",
       "      <td>7.1</td>\n",
       "      <td>9848 Total Reviews</td>\n",
       "      <td>Rs2641</td>\n",
       "      <td>Free WiFi\\nFollows Covid-19 sanitation guidance</td>\n",
       "      <td>Perfect Location\\nBrilliant Staff\\nAwesome Cle...</td>\n",
       "    </tr>\n",
       "    <tr>\n",
       "      <th>7</th>\n",
       "      <td>St Christopher's Camden</td>\n",
       "      <td>Hostel - 4.3km from city centre</td>\n",
       "      <td>8.2</td>\n",
       "      <td>3931 Total Reviews</td>\n",
       "      <td>Rs7579</td>\n",
       "      <td>Free WiFi\\nFollows Covid-19 sanitation guidance</td>\n",
       "      <td>Perfect Location\\nSuperb Staff\\nExcellent Clea...</td>\n",
       "    </tr>\n",
       "    <tr>\n",
       "      <th>8</th>\n",
       "      <td>No.8 Seven Sisters</td>\n",
       "      <td>Hostel - 9km from city centre</td>\n",
       "      <td>6.8</td>\n",
       "      <td>3930 Total Reviews</td>\n",
       "      <td>Rs2079</td>\n",
       "      <td>Free WiFi\\nFollows Covid-19 sanitation guidance</td>\n",
       "      <td>Brilliant Staff</td>\n",
       "    </tr>\n",
       "    <tr>\n",
       "      <th>9</th>\n",
       "      <td>No.8 Willesden Hostel London</td>\n",
       "      <td>Hostel - 10km from city centre</td>\n",
       "      <td>7.5</td>\n",
       "      <td>4914 Total Reviews</td>\n",
       "      <td>Rs18873</td>\n",
       "      <td>Free WiFi\\nFollows Covid-19 sanitation guidance</td>\n",
       "      <td>Great Location\\nMarvellous Staff\\nAwesome Clea...</td>\n",
       "    </tr>\n",
       "    <tr>\n",
       "      <th>10</th>\n",
       "      <td>Smart Hyde Park Inn Hostel</td>\n",
       "      <td>Hostel - 5km from city centre</td>\n",
       "      <td>7.0</td>\n",
       "      <td>6452 Total Reviews</td>\n",
       "      <td>Rs6620</td>\n",
       "      <td>Free WiFi</td>\n",
       "      <td>Perfect Location\\nMarvellous Staff\\nAwesome Cl...</td>\n",
       "    </tr>\n",
       "    <tr>\n",
       "      <th>11</th>\n",
       "      <td>Safestay London Kensington Holland Park</td>\n",
       "      <td>Hostel - 5.9km from city centre</td>\n",
       "      <td>7.5</td>\n",
       "      <td>1401 Total Reviews</td>\n",
       "      <td>Rs10844</td>\n",
       "      <td>Free WiFi</td>\n",
       "      <td>Perfect Location\\nBrilliant Staff\\nAwesome Cle...</td>\n",
       "    </tr>\n",
       "    <tr>\n",
       "      <th>12</th>\n",
       "      <td>NX London Hostel</td>\n",
       "      <td>Hostel - 6.1km from city centre</td>\n",
       "      <td>8.0</td>\n",
       "      <td>1422 Total Reviews</td>\n",
       "      <td>Rs1923</td>\n",
       "      <td>Free WiFi\\nFree Breakfast</td>\n",
       "      <td>Wonderful Location\\nMarvellous Staff\\nExcellen...</td>\n",
       "    </tr>\n",
       "    <tr>\n",
       "      <th>13</th>\n",
       "      <td>Astor Museum Inn</td>\n",
       "      <td>Hostel - 2.2km from city centre</td>\n",
       "      <td>8.4</td>\n",
       "      <td>9135 Total Reviews</td>\n",
       "      <td>Rs1910.19 Rs1719</td>\n",
       "      <td>Free WiFi\\nFollows Covid-19 sanitation guidance</td>\n",
       "      <td>Perfect Location\\nSuperb Staff\\nExcellent Clea...</td>\n",
       "    </tr>\n",
       "    <tr>\n",
       "      <th>14</th>\n",
       "      <td>Smart Camden Inn Hostel</td>\n",
       "      <td>Hostel - 4.4km from city centre</td>\n",
       "      <td>7.0</td>\n",
       "      <td>3001 Total Reviews</td>\n",
       "      <td>Rs1060</td>\n",
       "      <td>Free WiFi\\nFollows Covid-19 sanitation guidance</td>\n",
       "      <td>Perfect Location\\nSuperb Staff\\nFantastic Clea...</td>\n",
       "    </tr>\n",
       "    <tr>\n",
       "      <th>15</th>\n",
       "      <td>Phoenix Hostel</td>\n",
       "      <td>Hostel - 4.2km from city centre</td>\n",
       "      <td>7.7</td>\n",
       "      <td>3906 Total Reviews</td>\n",
       "      <td>Rs2225</td>\n",
       "      <td>Free Breakfast</td>\n",
       "      <td>Perfect Location\\nSuperb Staff\\nExcellent Clea...</td>\n",
       "    </tr>\n",
       "    <tr>\n",
       "      <th>16</th>\n",
       "      <td>St Christopher's Hammersmith</td>\n",
       "      <td>Hostel - 7.5km from city centre</td>\n",
       "      <td>7.7</td>\n",
       "      <td>4176 Total Reviews</td>\n",
       "      <td>Rs1110</td>\n",
       "      <td>Free WiFi\\nFollows Covid-19 sanitation guidance</td>\n",
       "      <td>Perfect Location\\nSuperb Staff</td>\n",
       "    </tr>\n",
       "    <tr>\n",
       "      <th>17</th>\n",
       "      <td>London Backpackers</td>\n",
       "      <td>Hostel - 11.9km from city centre</td>\n",
       "      <td>7.9</td>\n",
       "      <td>4389 Total Reviews</td>\n",
       "      <td>Rs1743.02 Rs1569</td>\n",
       "      <td>Free WiFi\\nFollows Covid-19 sanitation guidance</td>\n",
       "      <td>Perfect Location\\nSuperb Staff\\nExcellent Clea...</td>\n",
       "    </tr>\n",
       "    <tr>\n",
       "      <th>18</th>\n",
       "      <td>Smart Hyde Park View Hostel</td>\n",
       "      <td>Hostel - 5km from city centre</td>\n",
       "      <td>7.1</td>\n",
       "      <td>4648 Total Reviews</td>\n",
       "      <td>Rs13031</td>\n",
       "      <td>Free WiFi\\nFollows Covid-19 sanitation guidance</td>\n",
       "      <td>Wonderful Location\\nSuperb Staff\\nExcellent Cl...</td>\n",
       "    </tr>\n",
       "    <tr>\n",
       "      <th>19</th>\n",
       "      <td>Queen Elizabeth Chelsea</td>\n",
       "      <td>Hostel - 5.7km from city centre</td>\n",
       "      <td>7.8</td>\n",
       "      <td>3372 Total Reviews</td>\n",
       "      <td>Rs4044</td>\n",
       "      <td>Free WiFi\\nFollows Covid-19 sanitation guidance</td>\n",
       "      <td>Perfect Location\\nSuperb Staff\\nExcellent Clea...</td>\n",
       "    </tr>\n",
       "    <tr>\n",
       "      <th>20</th>\n",
       "      <td>Astor Victoria</td>\n",
       "      <td>Hostel - 1.8km from city centre</td>\n",
       "      <td>8.2</td>\n",
       "      <td>14868 Total Reviews</td>\n",
       "      <td>Rs2421.49 Rs1937</td>\n",
       "      <td>Free WiFi</td>\n",
       "      <td>Wonderful Location\\nSuperb Staff\\nAwesome Clea...</td>\n",
       "    </tr>\n",
       "    <tr>\n",
       "      <th>21</th>\n",
       "      <td>Prime Backpackers Angel</td>\n",
       "      <td>Hostel - 3.6km from city centre</td>\n",
       "      <td>7.6</td>\n",
       "      <td>698 Total Reviews</td>\n",
       "      <td>Rs2197</td>\n",
       "      <td>Free WiFi\\nFollows Covid-19 sanitation guidance</td>\n",
       "      <td>Perfect Location\\nSuperb Staff\\nAwesome Cleanl...</td>\n",
       "    </tr>\n",
       "    <tr>\n",
       "      <th>22</th>\n",
       "      <td>Saint James Backpackers</td>\n",
       "      <td>Hostel - 5.5km from city centre</td>\n",
       "      <td>7.2</td>\n",
       "      <td>1855 Total Reviews</td>\n",
       "      <td>Rs2492</td>\n",
       "      <td>Free WiFi\\nFollows Covid-19 sanitation guidance</td>\n",
       "      <td>Perfect Location\\nSuperb Staff\\nExcellent Clea...</td>\n",
       "    </tr>\n",
       "    <tr>\n",
       "      <th>23</th>\n",
       "      <td>St Christopher's Greenwich</td>\n",
       "      <td>Hostel - 7.6km from city centre</td>\n",
       "      <td>7.9</td>\n",
       "      <td>3290 Total Reviews</td>\n",
       "      <td>Rs5991</td>\n",
       "      <td>Free WiFi\\nFollows Covid-19 sanitation guidance</td>\n",
       "      <td>Perfect Location\\nSuperb Staff\\nFantastic Clea...</td>\n",
       "    </tr>\n",
       "    <tr>\n",
       "      <th>24</th>\n",
       "      <td>Clink261</td>\n",
       "      <td>Hostel - 3.2km from city centre</td>\n",
       "      <td>7.1</td>\n",
       "      <td>173 Total Reviews</td>\n",
       "      <td>Rs1977.48 Rs1879</td>\n",
       "      <td>Free WiFi\\nFree Breakfast\\nFollows Covid-19 sa...</td>\n",
       "      <td>Perfect Location\\nSuperb Staff\\nAwesome Cleanl...</td>\n",
       "    </tr>\n",
       "  </tbody>\n",
       "</table>\n",
       "</div>"
      ],
      "text/plain": [
       "                                Hostel_name         Distance_from_city_centre  \\\n",
       "0               Wombat's City Hostel London   Hostel - 3.6km from city centre   \n",
       "1                  St Christopher's Village   Hostel - 1.8km from city centre   \n",
       "2                   Hostel One Notting Hill   Hostel - 5.5km from city centre   \n",
       "3                      Urbany Hostel London   Hostel - 5.4km from city centre   \n",
       "4                          Generator London     Hostel - 3km from city centre   \n",
       "5         Safestay London Elephant & Castle   Hostel - 1.7km from city centre   \n",
       "6               Smart Russell Square Hostel   Hostel - 2.6km from city centre   \n",
       "7                   St Christopher's Camden   Hostel - 4.3km from city centre   \n",
       "8                        No.8 Seven Sisters     Hostel - 9km from city centre   \n",
       "9              No.8 Willesden Hostel London    Hostel - 10km from city centre   \n",
       "10               Smart Hyde Park Inn Hostel     Hostel - 5km from city centre   \n",
       "11  Safestay London Kensington Holland Park   Hostel - 5.9km from city centre   \n",
       "12                         NX London Hostel   Hostel - 6.1km from city centre   \n",
       "13                         Astor Museum Inn   Hostel - 2.2km from city centre   \n",
       "14                  Smart Camden Inn Hostel   Hostel - 4.4km from city centre   \n",
       "15                           Phoenix Hostel   Hostel - 4.2km from city centre   \n",
       "16             St Christopher's Hammersmith   Hostel - 7.5km from city centre   \n",
       "17                       London Backpackers  Hostel - 11.9km from city centre   \n",
       "18              Smart Hyde Park View Hostel     Hostel - 5km from city centre   \n",
       "19                  Queen Elizabeth Chelsea   Hostel - 5.7km from city centre   \n",
       "20                           Astor Victoria   Hostel - 1.8km from city centre   \n",
       "21                  Prime Backpackers Angel   Hostel - 3.6km from city centre   \n",
       "22                  Saint James Backpackers   Hostel - 5.5km from city centre   \n",
       "23               St Christopher's Greenwich   Hostel - 7.6km from city centre   \n",
       "24                                 Clink261   Hostel - 3.2km from city centre   \n",
       "\n",
       "   Ratings        Total_reviews Private_from_price  \\\n",
       "0      8.9  14420 Total Reviews  Rs15953.5 Rs12763   \n",
       "1      8.0  11770 Total Reviews   Rs3663.42 Rs2931   \n",
       "2      9.3   1643 Total Reviews   Rs1762.62 Rs1586   \n",
       "3      9.2    577 Total Reviews            Rs12791   \n",
       "4      7.7   7297 Total Reviews             Rs3090   \n",
       "5      7.3   4736 Total Reviews             Rs9974   \n",
       "6      7.1   9848 Total Reviews             Rs2641   \n",
       "7      8.2   3931 Total Reviews             Rs7579   \n",
       "8      6.8   3930 Total Reviews             Rs2079   \n",
       "9      7.5   4914 Total Reviews            Rs18873   \n",
       "10     7.0   6452 Total Reviews             Rs6620   \n",
       "11     7.5   1401 Total Reviews            Rs10844   \n",
       "12     8.0   1422 Total Reviews             Rs1923   \n",
       "13     8.4   9135 Total Reviews   Rs1910.19 Rs1719   \n",
       "14     7.0   3001 Total Reviews             Rs1060   \n",
       "15     7.7   3906 Total Reviews             Rs2225   \n",
       "16     7.7   4176 Total Reviews             Rs1110   \n",
       "17     7.9   4389 Total Reviews   Rs1743.02 Rs1569   \n",
       "18     7.1   4648 Total Reviews            Rs13031   \n",
       "19     7.8   3372 Total Reviews             Rs4044   \n",
       "20     8.2  14868 Total Reviews   Rs2421.49 Rs1937   \n",
       "21     7.6    698 Total Reviews             Rs2197   \n",
       "22     7.2   1855 Total Reviews             Rs2492   \n",
       "23     7.9   3290 Total Reviews             Rs5991   \n",
       "24     7.1    173 Total Reviews   Rs1977.48 Rs1879   \n",
       "\n",
       "                                           Facilities  \\\n",
       "0     Free WiFi\\nFollows Covid-19 sanitation guidance   \n",
       "1     Free WiFi\\nFollows Covid-19 sanitation guidance   \n",
       "2                                           Free WiFi   \n",
       "3     Free WiFi\\nFollows Covid-19 sanitation guidance   \n",
       "4     Free WiFi\\nFollows Covid-19 sanitation guidance   \n",
       "5     Free WiFi\\nFollows Covid-19 sanitation guidance   \n",
       "6     Free WiFi\\nFollows Covid-19 sanitation guidance   \n",
       "7     Free WiFi\\nFollows Covid-19 sanitation guidance   \n",
       "8     Free WiFi\\nFollows Covid-19 sanitation guidance   \n",
       "9     Free WiFi\\nFollows Covid-19 sanitation guidance   \n",
       "10                                          Free WiFi   \n",
       "11                                          Free WiFi   \n",
       "12                          Free WiFi\\nFree Breakfast   \n",
       "13    Free WiFi\\nFollows Covid-19 sanitation guidance   \n",
       "14    Free WiFi\\nFollows Covid-19 sanitation guidance   \n",
       "15                                     Free Breakfast   \n",
       "16    Free WiFi\\nFollows Covid-19 sanitation guidance   \n",
       "17    Free WiFi\\nFollows Covid-19 sanitation guidance   \n",
       "18    Free WiFi\\nFollows Covid-19 sanitation guidance   \n",
       "19    Free WiFi\\nFollows Covid-19 sanitation guidance   \n",
       "20                                          Free WiFi   \n",
       "21    Free WiFi\\nFollows Covid-19 sanitation guidance   \n",
       "22    Free WiFi\\nFollows Covid-19 sanitation guidance   \n",
       "23    Free WiFi\\nFollows Covid-19 sanitation guidance   \n",
       "24  Free WiFi\\nFree Breakfast\\nFollows Covid-19 sa...   \n",
       "\n",
       "                                 Property_description  \n",
       "0   Perfect Location\\nSuperb Staff\\nFantastic Clea...  \n",
       "1   Perfect Location\\nMarvellous Staff\\nExcellent ...  \n",
       "2   Perfect Location\\nSuperb Staff\\nFantastic Clea...  \n",
       "3   Perfect Location\\nSuperb Staff\\nFantastic Clea...  \n",
       "4   Perfect Location\\nMarvellous Staff\\nExcellent ...  \n",
       "5   Wonderful Location\\nMarvellous Staff\\nExcellen...  \n",
       "6   Perfect Location\\nBrilliant Staff\\nAwesome Cle...  \n",
       "7   Perfect Location\\nSuperb Staff\\nExcellent Clea...  \n",
       "8                                     Brilliant Staff  \n",
       "9   Great Location\\nMarvellous Staff\\nAwesome Clea...  \n",
       "10  Perfect Location\\nMarvellous Staff\\nAwesome Cl...  \n",
       "11  Perfect Location\\nBrilliant Staff\\nAwesome Cle...  \n",
       "12  Wonderful Location\\nMarvellous Staff\\nExcellen...  \n",
       "13  Perfect Location\\nSuperb Staff\\nExcellent Clea...  \n",
       "14  Perfect Location\\nSuperb Staff\\nFantastic Clea...  \n",
       "15  Perfect Location\\nSuperb Staff\\nExcellent Clea...  \n",
       "16                     Perfect Location\\nSuperb Staff  \n",
       "17  Perfect Location\\nSuperb Staff\\nExcellent Clea...  \n",
       "18  Wonderful Location\\nSuperb Staff\\nExcellent Cl...  \n",
       "19  Perfect Location\\nSuperb Staff\\nExcellent Clea...  \n",
       "20  Wonderful Location\\nSuperb Staff\\nAwesome Clea...  \n",
       "21  Perfect Location\\nSuperb Staff\\nAwesome Cleanl...  \n",
       "22  Perfect Location\\nSuperb Staff\\nExcellent Clea...  \n",
       "23  Perfect Location\\nSuperb Staff\\nFantastic Clea...  \n",
       "24  Perfect Location\\nSuperb Staff\\nAwesome Cleanl...  "
      ]
     },
     "execution_count": 64,
     "metadata": {},
     "output_type": "execute_result"
    }
   ],
   "source": [
    "df=pd.DataFrame({\"Hostel_name\":Hostel_name,\"Distance_from_city_centre\":Distance_from_city_centre,\"Ratings\":Ratings,\"Total_reviews\":Total_reviews,\"Private_from_price\":Private_from_price,\"Facilities\":Facilities,\"Property_description\":Property_description})\n",
    "df"
   ]
  },
  {
   "cell_type": "code",
   "execution_count": 65,
   "id": "b5d47351",
   "metadata": {},
   "outputs": [],
   "source": [
    "df.to_csv(\"London_Hostel\")"
   ]
  },
  {
   "cell_type": "markdown",
   "id": "1ed09370",
   "metadata": {},
   "source": [
    "# ********END*************"
   ]
  }
 ],
 "metadata": {
  "kernelspec": {
   "display_name": "Python 3 (ipykernel)",
   "language": "python",
   "name": "python3"
  },
  "language_info": {
   "codemirror_mode": {
    "name": "ipython",
    "version": 3
   },
   "file_extension": ".py",
   "mimetype": "text/x-python",
   "name": "python",
   "nbconvert_exporter": "python",
   "pygments_lexer": "ipython3",
   "version": "3.9.12"
  }
 },
 "nbformat": 4,
 "nbformat_minor": 5
}
